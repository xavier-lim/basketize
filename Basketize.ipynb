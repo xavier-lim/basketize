{
 "cells": [
  {
   "cell_type": "markdown",
   "metadata": {},
   "source": [
    "# Basketize: Optimizing Basketball Rosters"
   ]
  },
  {
   "cell_type": "markdown",
   "metadata": {},
   "source": [
    "Basketize is an optimization model whose main objective is to minimize an NBA team's salary while achieving key team statistics likely to lead to wins. As a follow-up to my [HiddenBasket](https://www.linkedin.com/pulse/hiddenbasket-most-undervalued-nba-players-xavier-lim-2f/) model which took an individualistic approach to roster creation, Basketize is a more holistic (team) approach to creating an undervalued team. Rather than finding the 12 most undervalued players and putting them on a team, Basketize determines which combination of 12 players will collectively lead the NBA in all team statistics likely to lead to wins.\n",
    "\n",
    "Prior to developing the model, a correlation analysis will be performed to determine which team statistics are highly correlated with winning during the 2019-2020 season. Then, among the 30 NBA teams, the best team at each of those team statistics will be determined. The value for each of those team statistics will be used as model constraints to ensure the players selected by the model will collectively lead the NBA in all of those areas. Finally, the Basketize model will be used to determine which free agent players the Toronto Raptors should target this coming 2020 offseason to maximize their chance of winning."
   ]
  },
  {
   "cell_type": "markdown",
   "metadata": {},
   "source": [
    "#    \n",
    "# Packages"
   ]
  },
  {
   "cell_type": "code",
   "execution_count": 490,
   "metadata": {},
   "outputs": [],
   "source": [
    "using ExcelFiles\n",
    "using DataFrames\n",
    "using JuMP\n",
    "using Cbc\n",
    "using Statistics\n",
    "using StatsBase"
   ]
  },
  {
   "cell_type": "markdown",
   "metadata": {},
   "source": [
    "#  \n",
    "# Data Sets"
   ]
  },
  {
   "cell_type": "markdown",
   "metadata": {},
   "source": [
    "For my project, I will collect three data sets from [Basketball Reference](https://www.basketball-reference.com/):\n",
    "* The **Player Statistics** data set presents information and performance statistics about each player such as their position (Pos), team (Tm), games played (G), minutes played (MP), field goal percentage (FGp), 3-pointers per game (P3), 3-point percentage (P3p), effective field goal percentage (eFGp), free throws per game (FT), free throw attempts per game (FTA), free throw percentage (FTp), offensive rebounds per game (ORB), defensive rebounds per game (DRB), total rebounds per game (TRB), assists per game (AST), turnovers per game (TOV), points per game (PTS), true shooting percentage (TSp), 3-point attempt rate (P3Ar), defensive win shares (DWS), and defensive box plus/minus (DBPM).\n",
    "\n",
    "  - Effective field goal percentage (eFGp) is the percentage of field goals a player makes and adjusts for the fact that a 3-point field goal is worth one more point than a 2-point field goal.\n",
    "  - True shooting percentage (TSp) measures shooting efficiency that takes into account field goals, 3-point field goals, and free throws.\n",
    "  - 3-point attempt rate (P3Ar) is the percentage of field goal attempts from 3-point range.\n",
    "  - Defensive win shares (DWS) estimates the number of wins contributed by a player due to his defense.\n",
    "  - Defensive box plus/minus (DBPM) estimates a player’s defensive contribution to the team when that player is on the court.\n",
    "\n",
    "\n",
    "* The **Player Salaries** data set presents the salaries of all NBA players for the 2019-2020 to 2023-2024 season.\n",
    "\n",
    "\n",
    "* The **Team Statistics** data set presents performance statistics about each team such as their win-loss percentage (WLp), field goal percentage (FGp), 3-pointers per game (P3), 3-point percentage (P3p), free throws per game (FT), free-throw attempts per game (FTA), free throw percentage (FTp), offensive rebounds per game (ORB), defensive rebounds per game (DRB), total rebounds per game (TRB), assists per game (AST), turnovers per game (TOV), points per game (PTS), 3-point attempt rate (P3Ar), pace, true shooting percentage (TSp), effective field goal percentage (eFGp), offensive rating (ORtg), and defensive rating (DRtg). \n",
    "     - Win-loss percentage (WLp) is the percentage of games a team wins. I decided to use this statistic rather than simply using wins to quantify winning because some teams played more games than others prior to the COVID-19 play stoppage.\n",
    "     - Offensive rating (ORtg) shows how many points a team scores per 100 possessions.\n",
    "     - Defensive rating (DRtg) shows how many points a team allows per 100 possessions. "
   ]
  },
  {
   "cell_type": "markdown",
   "metadata": {},
   "source": [
    "# Data Wrangling / Cleaning"
   ]
  },
  {
   "cell_type": "markdown",
   "metadata": {},
   "source": [
    "There are numerous data wrangling procedures I must complete prior to developing the model. First, I will select only the columns relevant to my analysis from all data sets. Then, I will replace all missing values with 0 because I am assuming a field will only be empty if a player did not qualify for that statistic. For example, a player who has never shot a 3-pointer will have a missing value for their 3-point percentage. Next, I will remove players who have played less than 10 games in the 2019-2020 season from the Player Statistics data set due to playing too few games. I am choosing to set the cutoff at 10 games because if a player played less than 10 games, they would have played less than 15% of the season which is too small of a sample. After removing these players from the data set, I will join the Player Statistics and Player Salaries data sets to show each player's performance statistics accompanied by their annual salary from 2019-2020 to 2023-2024. This final compiled data set will be called **Player Statistics & Salaries**.\n",
    "\n",
    "It is also important to note that prior to loading the data sets into Julia, I changed all column names that started with a number or had a percentage sign because Julia does not allow calling columns with either of these attributes.\n",
    "\n",
    "I also want to mention that since there is no commonly used accurate measurement of defense, it is quite difficult to use statistics to evaluate a player's defensive ability. Thus, I am choosing not to use basic defensive metrics such as steals and blocks because both metrics have deficiencies when trying to analyze a player's defensive ability. For example, many players who average a lot of steals may not necessarily be good defenders since they tend to play the passing lanes and gamble which could leave their defensive assignment wide open. Although defensive win shares and defensive box-plus minus have a few deficiencies, I believe they do a better job of measuring defense than simply using steals and blocks."
   ]
  },
  {
   "cell_type": "markdown",
   "metadata": {},
   "source": [
    "### Player Statistics"
   ]
  },
  {
   "cell_type": "code",
   "execution_count": 491,
   "metadata": {},
   "outputs": [
    {
     "data": {
      "text/html": [
       "<table class=\"data-frame\"><thead><tr><th></th><th>Player</th><th>Pos</th><th>Tm</th><th>G</th><th>MP</th><th>FGp</th><th>P3</th><th>P3p</th></tr><tr><th></th><th>String</th><th>String</th><th>String</th><th>Float64</th><th>Float64</th><th>Float64</th><th>Float64</th><th>Float64</th></tr></thead><tbody><p>10 rows × 22 columns (omitted printing of 14 columns)</p><tr><th>1</th><td>Steven Adams</td><td>C</td><td>OKC</td><td>58.0</td><td>27.0</td><td>0.591</td><td>0.0</td><td>0.333</td></tr><tr><th>2</th><td>Bam Adebayo</td><td>PF</td><td>MIA</td><td>65.0</td><td>34.4</td><td>0.567</td><td>0.0</td><td>0.077</td></tr><tr><th>3</th><td>LaMarcus Aldridge</td><td>C</td><td>SAS</td><td>53.0</td><td>33.1</td><td>0.493</td><td>1.2</td><td>0.389</td></tr><tr><th>4</th><td>Nickeil Alexander-Walker</td><td>SG</td><td>NOP</td><td>41.0</td><td>12.2</td><td>0.339</td><td>1.0</td><td>0.342</td></tr><tr><th>5</th><td>Grayson Allen</td><td>SG</td><td>MEM</td><td>30.0</td><td>16.6</td><td>0.449</td><td>1.1</td><td>0.363</td></tr><tr><th>6</th><td>Jarrett Allen</td><td>C</td><td>BRK</td><td>64.0</td><td>25.7</td><td>0.646</td><td>0.0</td><td>0.0</td></tr><tr><th>7</th><td>Kadeem Allen</td><td>SG</td><td>NYK</td><td>10.0</td><td>11.7</td><td>0.432</td><td>0.5</td><td>0.313</td></tr><tr><th>8</th><td>Al-Farouq Aminu</td><td>PF</td><td>ORL</td><td>18.0</td><td>21.1</td><td>0.291</td><td>0.5</td><td>0.25</td></tr><tr><th>9</th><td>Kyle Anderson</td><td>PF</td><td>MEM</td><td>59.0</td><td>19.3</td><td>0.493</td><td>0.3</td><td>0.258</td></tr><tr><th>10</th><td>Giannis Antetokounmpo</td><td>PF</td><td>MIL</td><td>57.0</td><td>30.9</td><td>0.547</td><td>1.5</td><td>0.306</td></tr></tbody></table>"
      ],
      "text/latex": [
       "\\begin{tabular}{r|ccccccccc}\n",
       "\t& Player & Pos & Tm & G & MP & FGp & P3 & P3p & \\\\\n",
       "\t\\hline\n",
       "\t& String & String & String & Float64 & Float64 & Float64 & Float64 & Float64 & \\\\\n",
       "\t\\hline\n",
       "\t1 & Steven Adams & C & OKC & 58.0 & 27.0 & 0.591 & 0.0 & 0.333 & $\\dots$ \\\\\n",
       "\t2 & Bam Adebayo & PF & MIA & 65.0 & 34.4 & 0.567 & 0.0 & 0.077 & $\\dots$ \\\\\n",
       "\t3 & LaMarcus Aldridge & C & SAS & 53.0 & 33.1 & 0.493 & 1.2 & 0.389 & $\\dots$ \\\\\n",
       "\t4 & Nickeil Alexander-Walker & SG & NOP & 41.0 & 12.2 & 0.339 & 1.0 & 0.342 & $\\dots$ \\\\\n",
       "\t5 & Grayson Allen & SG & MEM & 30.0 & 16.6 & 0.449 & 1.1 & 0.363 & $\\dots$ \\\\\n",
       "\t6 & Jarrett Allen & C & BRK & 64.0 & 25.7 & 0.646 & 0.0 & 0.0 & $\\dots$ \\\\\n",
       "\t7 & Kadeem Allen & SG & NYK & 10.0 & 11.7 & 0.432 & 0.5 & 0.313 & $\\dots$ \\\\\n",
       "\t8 & Al-Farouq Aminu & PF & ORL & 18.0 & 21.1 & 0.291 & 0.5 & 0.25 & $\\dots$ \\\\\n",
       "\t9 & Kyle Anderson & PF & MEM & 59.0 & 19.3 & 0.493 & 0.3 & 0.258 & $\\dots$ \\\\\n",
       "\t10 & Giannis Antetokounmpo & PF & MIL & 57.0 & 30.9 & 0.547 & 1.5 & 0.306 & $\\dots$ \\\\\n",
       "\\end{tabular}\n"
      ],
      "text/plain": [
       "10×22 DataFrame. Omitted printing of 17 columns\n",
       "│ Row │ Player                   │ Pos    │ Tm     │ G       │ MP      │\n",
       "│     │ \u001b[90mString\u001b[39m                   │ \u001b[90mString\u001b[39m │ \u001b[90mString\u001b[39m │ \u001b[90mFloat64\u001b[39m │ \u001b[90mFloat64\u001b[39m │\n",
       "├─────┼──────────────────────────┼────────┼────────┼─────────┼─────────┤\n",
       "│ 1   │ Steven Adams             │ C      │ OKC    │ 58.0    │ 27.0    │\n",
       "│ 2   │ Bam Adebayo              │ PF     │ MIA    │ 65.0    │ 34.4    │\n",
       "│ 3   │ LaMarcus Aldridge        │ C      │ SAS    │ 53.0    │ 33.1    │\n",
       "│ 4   │ Nickeil Alexander-Walker │ SG     │ NOP    │ 41.0    │ 12.2    │\n",
       "│ 5   │ Grayson Allen            │ SG     │ MEM    │ 30.0    │ 16.6    │\n",
       "│ 6   │ Jarrett Allen            │ C      │ BRK    │ 64.0    │ 25.7    │\n",
       "│ 7   │ Kadeem Allen             │ SG     │ NYK    │ 10.0    │ 11.7    │\n",
       "│ 8   │ Al-Farouq Aminu          │ PF     │ ORL    │ 18.0    │ 21.1    │\n",
       "│ 9   │ Kyle Anderson            │ PF     │ MEM    │ 59.0    │ 19.3    │\n",
       "│ 10  │ Giannis Antetokounmpo    │ PF     │ MIL    │ 57.0    │ 30.9    │"
      ]
     },
     "execution_count": 491,
     "metadata": {},
     "output_type": "execute_result"
    }
   ],
   "source": [
    "# Load Player Statistics Data Set\n",
    "playerStats = DataFrame(load(\"nba_data_2019_2020.xlsx\", \"Player Statistics\"))\n",
    "\n",
    "# Select Columns Relevant to Analysis\n",
    "playerStats = playerStats[:,[\"Player\",\"Pos\",\"Tm\",\"G\",\"MP\",\"FGp\",\"P3\",\"P3p\",\"eFGp\",\"FT\",\"FTA\",\"FTp\",\"ORB\",\"DRB\",\"TRB\",\"AST\",\n",
    "                            \"TOV\",\"PTS\",\"TSp\",\"P3Ar\",\"DWS\",\"DBPM\"]]\n",
    "\n",
    "# Replace Missing Values with 0\n",
    "playerStats = coalesce.(playerStats, 0)\n",
    "\n",
    "# Select Players Who Played More Than 10 Games\n",
    "validPlayerStats = playerStats[playerStats.G .>= 10,:]\n",
    "\n",
    "first(validPlayerStats,10)"
   ]
  },
  {
   "cell_type": "markdown",
   "metadata": {},
   "source": [
    "### Player Salaries "
   ]
  },
  {
   "cell_type": "code",
   "execution_count": 492,
   "metadata": {},
   "outputs": [
    {
     "data": {
      "text/html": [
       "<table class=\"data-frame\"><thead><tr><th></th><th>Player</th><th>Salary2019_20</th><th>Salary2020_21</th><th>Salary2021_22</th><th>Salary2022_23</th><th>Salary2023_24</th></tr><tr><th></th><th>String</th><th>Float64</th><th>Float64?</th><th>Float64?</th><th>Float64?</th><th>Float64?</th></tr></thead><tbody><p>10 rows × 6 columns</p><tr><th>1</th><td>Stephen Curry</td><td>4.02318e7</td><td>4.30064e7</td><td>4.5781e7</td><td><em>missing</em></td><td><em>missing</em></td></tr><tr><th>2</th><td>Chris Paul</td><td>3.85065e7</td><td>4.13588e7</td><td>4.42111e7</td><td><em>missing</em></td><td><em>missing</em></td></tr><tr><th>3</th><td>Russell Westbrook</td><td>3.8178e7</td><td>4.1006e7</td><td>4.3848e7</td><td>4.6662e7</td><td><em>missing</em></td></tr><tr><th>4</th><td>John Wall</td><td>3.78e7</td><td>4.0824e7</td><td>4.3848e7</td><td>4.6872e7</td><td><em>missing</em></td></tr><tr><th>5</th><td>James Harden</td><td>3.78e7</td><td>4.0824e7</td><td>4.3848e7</td><td>4.6872e7</td><td><em>missing</em></td></tr><tr><th>6</th><td>LeBron James</td><td>3.74369e7</td><td>3.92196e7</td><td>4.10023e7</td><td><em>missing</em></td><td><em>missing</em></td></tr><tr><th>7</th><td>Kevin Durant</td><td>3.7199e7</td><td>3.9059e7</td><td>4.09189e7</td><td>4.27788e7</td><td><em>missing</em></td></tr><tr><th>8</th><td>Blake Griffin</td><td>3.4235e7</td><td>3.6596e7</td><td>3.8957e7</td><td><em>missing</em></td><td><em>missing</em></td></tr><tr><th>9</th><td>Kyle Lowry</td><td>3.32963e7</td><td>3.0e7</td><td><em>missing</em></td><td><em>missing</em></td><td><em>missing</em></td></tr><tr><th>10</th><td>Paul George</td><td>3.30056e7</td><td>3.54504e7</td><td>3.78953e7</td><td><em>missing</em></td><td><em>missing</em></td></tr></tbody></table>"
      ],
      "text/latex": [
       "\\begin{tabular}{r|cccccc}\n",
       "\t& Player & Salary2019\\_20 & Salary2020\\_21 & Salary2021\\_22 & Salary2022\\_23 & Salary2023\\_24\\\\\n",
       "\t\\hline\n",
       "\t& String & Float64 & Float64? & Float64? & Float64? & Float64?\\\\\n",
       "\t\\hline\n",
       "\t1 & Stephen Curry & 4.02318e7 & 4.30064e7 & 4.5781e7 & \\emph{missing} & \\emph{missing} \\\\\n",
       "\t2 & Chris Paul & 3.85065e7 & 4.13588e7 & 4.42111e7 & \\emph{missing} & \\emph{missing} \\\\\n",
       "\t3 & Russell Westbrook & 3.8178e7 & 4.1006e7 & 4.3848e7 & 4.6662e7 & \\emph{missing} \\\\\n",
       "\t4 & John Wall & 3.78e7 & 4.0824e7 & 4.3848e7 & 4.6872e7 & \\emph{missing} \\\\\n",
       "\t5 & James Harden & 3.78e7 & 4.0824e7 & 4.3848e7 & 4.6872e7 & \\emph{missing} \\\\\n",
       "\t6 & LeBron James & 3.74369e7 & 3.92196e7 & 4.10023e7 & \\emph{missing} & \\emph{missing} \\\\\n",
       "\t7 & Kevin Durant & 3.7199e7 & 3.9059e7 & 4.09189e7 & 4.27788e7 & \\emph{missing} \\\\\n",
       "\t8 & Blake Griffin & 3.4235e7 & 3.6596e7 & 3.8957e7 & \\emph{missing} & \\emph{missing} \\\\\n",
       "\t9 & Kyle Lowry & 3.32963e7 & 3.0e7 & \\emph{missing} & \\emph{missing} & \\emph{missing} \\\\\n",
       "\t10 & Paul George & 3.30056e7 & 3.54504e7 & 3.78953e7 & \\emph{missing} & \\emph{missing} \\\\\n",
       "\\end{tabular}\n"
      ],
      "text/plain": [
       "10×6 DataFrame. Omitted printing of 2 columns\n",
       "│ Row │ Player            │ Salary2019_20 │ Salary2020_21 │ Salary2021_22 │\n",
       "│     │ \u001b[90mString\u001b[39m            │ \u001b[90mFloat64\u001b[39m       │ \u001b[90mFloat64?\u001b[39m      │ \u001b[90mFloat64?\u001b[39m      │\n",
       "├─────┼───────────────────┼───────────────┼───────────────┼───────────────┤\n",
       "│ 1   │ Stephen Curry     │ 4.02318e7     │ 4.30064e7     │ 4.5781e7      │\n",
       "│ 2   │ Chris Paul        │ 3.85065e7     │ 4.13588e7     │ 4.42111e7     │\n",
       "│ 3   │ Russell Westbrook │ 3.8178e7      │ 4.1006e7      │ 4.3848e7      │\n",
       "│ 4   │ John Wall         │ 3.78e7        │ 4.0824e7      │ 4.3848e7      │\n",
       "│ 5   │ James Harden      │ 3.78e7        │ 4.0824e7      │ 4.3848e7      │\n",
       "│ 6   │ LeBron James      │ 3.74369e7     │ 3.92196e7     │ 4.10023e7     │\n",
       "│ 7   │ Kevin Durant      │ 3.7199e7      │ 3.9059e7      │ 4.09189e7     │\n",
       "│ 8   │ Blake Griffin     │ 3.4235e7      │ 3.6596e7      │ 3.8957e7      │\n",
       "│ 9   │ Kyle Lowry        │ 3.32963e7     │ 3.0e7         │ \u001b[90mmissing\u001b[39m       │\n",
       "│ 10  │ Paul George       │ 3.30056e7     │ 3.54504e7     │ 3.78953e7     │"
      ]
     },
     "execution_count": 492,
     "metadata": {},
     "output_type": "execute_result"
    }
   ],
   "source": [
    "# Load Player Salaries Data Set\n",
    "playerSalaries = DataFrame(load(\"nba_data_2019_2020.xlsx\", \"Salaries\"))\n",
    "\n",
    "# Select Columns Relevant to Analysis\n",
    "playerSalaries = playerSalaries[:,[\"Player\", \"Salary2019_20\", \"Salary2020_21\", \"Salary2021_22\", \"Salary2022_23\", \n",
    "                                    \"Salary2023_24\"]]\n",
    "\n",
    "first(playerSalaries,10)"
   ]
  },
  {
   "cell_type": "markdown",
   "metadata": {},
   "source": [
    "Players without a signed contract for a specific season is labelled as \"*missing*\". Thus, each player will become a free agent the first season they have a missing salary. For example, Stephen Curry will become a free agent after the 2021-2022 season.\n",
    "\n",
    "It is important to note that certain players have a player or team option in certain years. For more information, please visit: [Basketball Reference - NBA Player Contracts](https://www.basketball-reference.com/contracts/players.html) "
   ]
  },
  {
   "cell_type": "markdown",
   "metadata": {},
   "source": [
    "### Player Statistics & Salaries"
   ]
  },
  {
   "cell_type": "code",
   "execution_count": 493,
   "metadata": {},
   "outputs": [
    {
     "data": {
      "text/html": [
       "<table class=\"data-frame\"><thead><tr><th></th><th>Player</th><th>Pos</th><th>Tm</th><th>G</th><th>MP</th><th>FGp</th><th>P3</th><th>P3p</th></tr><tr><th></th><th>String</th><th>String</th><th>String</th><th>Float64</th><th>Float64</th><th>Float64</th><th>Float64</th><th>Float64</th></tr></thead><tbody><p>10 rows × 27 columns (omitted printing of 19 columns)</p><tr><th>1</th><td>Aaron Gordon</td><td>PF</td><td>ORL</td><td>58.0</td><td>33.0</td><td>0.433</td><td>1.2</td><td>0.301</td></tr><tr><th>2</th><td>Aaron Holiday</td><td>PG</td><td>IND</td><td>58.0</td><td>23.6</td><td>0.407</td><td>1.4</td><td>0.394</td></tr><tr><th>3</th><td>Abdel Nader</td><td>SF</td><td>OKC</td><td>48.0</td><td>15.8</td><td>0.455</td><td>0.8</td><td>0.371</td></tr><tr><th>4</th><td>Admiral Schofield</td><td>SF</td><td>WAS</td><td>27.0</td><td>10.9</td><td>0.4</td><td>0.5</td><td>0.298</td></tr><tr><th>5</th><td>Al Horford</td><td>C</td><td>PHI</td><td>60.0</td><td>30.8</td><td>0.442</td><td>1.5</td><td>0.337</td></tr><tr><th>6</th><td>Al-Farouq Aminu</td><td>PF</td><td>ORL</td><td>18.0</td><td>21.1</td><td>0.291</td><td>0.5</td><td>0.25</td></tr><tr><th>7</th><td>Alec Burks</td><td>SG</td><td>TOT</td><td>59.0</td><td>27.3</td><td>0.404</td><td>1.7</td><td>0.366</td></tr><tr><th>8</th><td>Alen Smailagić</td><td>PF</td><td>GSW</td><td>14.0</td><td>9.9</td><td>0.5</td><td>0.2</td><td>0.231</td></tr><tr><th>9</th><td>Alex Caruso</td><td>PG</td><td>LAL</td><td>58.0</td><td>17.8</td><td>0.423</td><td>0.7</td><td>0.355</td></tr><tr><th>10</th><td>Alex Len</td><td>C</td><td>TOT</td><td>49.0</td><td>18.3</td><td>0.556</td><td>0.3</td><td>0.25</td></tr></tbody></table>"
      ],
      "text/latex": [
       "\\begin{tabular}{r|ccccccccc}\n",
       "\t& Player & Pos & Tm & G & MP & FGp & P3 & P3p & \\\\\n",
       "\t\\hline\n",
       "\t& String & String & String & Float64 & Float64 & Float64 & Float64 & Float64 & \\\\\n",
       "\t\\hline\n",
       "\t1 & Aaron Gordon & PF & ORL & 58.0 & 33.0 & 0.433 & 1.2 & 0.301 & $\\dots$ \\\\\n",
       "\t2 & Aaron Holiday & PG & IND & 58.0 & 23.6 & 0.407 & 1.4 & 0.394 & $\\dots$ \\\\\n",
       "\t3 & Abdel Nader & SF & OKC & 48.0 & 15.8 & 0.455 & 0.8 & 0.371 & $\\dots$ \\\\\n",
       "\t4 & Admiral Schofield & SF & WAS & 27.0 & 10.9 & 0.4 & 0.5 & 0.298 & $\\dots$ \\\\\n",
       "\t5 & Al Horford & C & PHI & 60.0 & 30.8 & 0.442 & 1.5 & 0.337 & $\\dots$ \\\\\n",
       "\t6 & Al-Farouq Aminu & PF & ORL & 18.0 & 21.1 & 0.291 & 0.5 & 0.25 & $\\dots$ \\\\\n",
       "\t7 & Alec Burks & SG & TOT & 59.0 & 27.3 & 0.404 & 1.7 & 0.366 & $\\dots$ \\\\\n",
       "\t8 & Alen Smailagić & PF & GSW & 14.0 & 9.9 & 0.5 & 0.2 & 0.231 & $\\dots$ \\\\\n",
       "\t9 & Alex Caruso & PG & LAL & 58.0 & 17.8 & 0.423 & 0.7 & 0.355 & $\\dots$ \\\\\n",
       "\t10 & Alex Len & C & TOT & 49.0 & 18.3 & 0.556 & 0.3 & 0.25 & $\\dots$ \\\\\n",
       "\\end{tabular}\n"
      ],
      "text/plain": [
       "10×27 DataFrame. Omitted printing of 21 columns\n",
       "│ Row │ Player            │ Pos    │ Tm     │ G       │ MP      │ FGp     │\n",
       "│     │ \u001b[90mString\u001b[39m            │ \u001b[90mString\u001b[39m │ \u001b[90mString\u001b[39m │ \u001b[90mFloat64\u001b[39m │ \u001b[90mFloat64\u001b[39m │ \u001b[90mFloat64\u001b[39m │\n",
       "├─────┼───────────────────┼────────┼────────┼─────────┼─────────┼─────────┤\n",
       "│ 1   │ Aaron Gordon      │ PF     │ ORL    │ 58.0    │ 33.0    │ 0.433   │\n",
       "│ 2   │ Aaron Holiday     │ PG     │ IND    │ 58.0    │ 23.6    │ 0.407   │\n",
       "│ 3   │ Abdel Nader       │ SF     │ OKC    │ 48.0    │ 15.8    │ 0.455   │\n",
       "│ 4   │ Admiral Schofield │ SF     │ WAS    │ 27.0    │ 10.9    │ 0.4     │\n",
       "│ 5   │ Al Horford        │ C      │ PHI    │ 60.0    │ 30.8    │ 0.442   │\n",
       "│ 6   │ Al-Farouq Aminu   │ PF     │ ORL    │ 18.0    │ 21.1    │ 0.291   │\n",
       "│ 7   │ Alec Burks        │ SG     │ TOT    │ 59.0    │ 27.3    │ 0.404   │\n",
       "│ 8   │ Alen Smailagić    │ PF     │ GSW    │ 14.0    │ 9.9     │ 0.5     │\n",
       "│ 9   │ Alex Caruso       │ PG     │ LAL    │ 58.0    │ 17.8    │ 0.423   │\n",
       "│ 10  │ Alex Len          │ C      │ TOT    │ 49.0    │ 18.3    │ 0.556   │"
      ]
     },
     "execution_count": 493,
     "metadata": {},
     "output_type": "execute_result"
    }
   ],
   "source": [
    "# Join the Player Statistics and Player Salaries Data Sets\n",
    "playerData = sort(innerjoin(validPlayerStats, playerSalaries, on = :Player, makeunique=true))\n",
    "\n",
    "first(playerData,10)"
   ]
  },
  {
   "cell_type": "markdown",
   "metadata": {},
   "source": [
    "\n",
    "### Team Statistics"
   ]
  },
  {
   "cell_type": "code",
   "execution_count": 494,
   "metadata": {},
   "outputs": [
    {
     "data": {
      "text/html": [
       "<table class=\"data-frame\"><thead><tr><th></th><th>Team</th><th>WLp</th><th>FGp</th><th>P3</th><th>P3p</th><th>FT</th><th>FTA</th><th>FTp</th></tr><tr><th></th><th>String</th><th>Float64</th><th>Float64</th><th>Float64</th><th>Float64</th><th>Float64</th><th>Float64</th><th>Float64</th></tr></thead><tbody><p>10 rows × 20 columns (omitted printing of 12 columns)</p><tr><th>1</th><td>Atlanta Hawks</td><td>0.299</td><td>0.449</td><td>12.0</td><td>0.333</td><td>18.5</td><td>23.4</td><td>0.79</td></tr><tr><th>2</th><td>Boston Celtics</td><td>0.672</td><td>0.459</td><td>12.4</td><td>0.363</td><td>18.3</td><td>22.8</td><td>0.801</td></tr><tr><th>3</th><td>Brooklyn Nets</td><td>0.469</td><td>0.444</td><td>12.9</td><td>0.34</td><td>18.0</td><td>24.1</td><td>0.744</td></tr><tr><th>4</th><td>Charlotte Hornets</td><td>0.354</td><td>0.434</td><td>12.1</td><td>0.352</td><td>16.2</td><td>21.6</td><td>0.748</td></tr><tr><th>5</th><td>Chicago Bulls</td><td>0.338</td><td>0.447</td><td>12.2</td><td>0.348</td><td>15.5</td><td>20.5</td><td>0.755</td></tr><tr><th>6</th><td>Cleveland Cavaliers</td><td>0.292</td><td>0.458</td><td>11.2</td><td>0.351</td><td>15.1</td><td>19.9</td><td>0.758</td></tr><tr><th>7</th><td>Dallas Mavericks</td><td>0.597</td><td>0.462</td><td>15.3</td><td>0.369</td><td>17.9</td><td>23.1</td><td>0.773</td></tr><tr><th>8</th><td>Denver Nuggets</td><td>0.662</td><td>0.471</td><td>10.9</td><td>0.358</td><td>15.9</td><td>20.5</td><td>0.775</td></tr><tr><th>9</th><td>Detroit Pistons</td><td>0.303</td><td>0.459</td><td>12.0</td><td>0.367</td><td>16.6</td><td>22.4</td><td>0.743</td></tr><tr><th>10</th><td>Golden State Warriors</td><td>0.231</td><td>0.438</td><td>10.4</td><td>0.334</td><td>18.7</td><td>23.2</td><td>0.803</td></tr></tbody></table>"
      ],
      "text/latex": [
       "\\begin{tabular}{r|ccccccccc}\n",
       "\t& Team & WLp & FGp & P3 & P3p & FT & FTA & FTp & \\\\\n",
       "\t\\hline\n",
       "\t& String & Float64 & Float64 & Float64 & Float64 & Float64 & Float64 & Float64 & \\\\\n",
       "\t\\hline\n",
       "\t1 & Atlanta Hawks & 0.299 & 0.449 & 12.0 & 0.333 & 18.5 & 23.4 & 0.79 & $\\dots$ \\\\\n",
       "\t2 & Boston Celtics & 0.672 & 0.459 & 12.4 & 0.363 & 18.3 & 22.8 & 0.801 & $\\dots$ \\\\\n",
       "\t3 & Brooklyn Nets & 0.469 & 0.444 & 12.9 & 0.34 & 18.0 & 24.1 & 0.744 & $\\dots$ \\\\\n",
       "\t4 & Charlotte Hornets & 0.354 & 0.434 & 12.1 & 0.352 & 16.2 & 21.6 & 0.748 & $\\dots$ \\\\\n",
       "\t5 & Chicago Bulls & 0.338 & 0.447 & 12.2 & 0.348 & 15.5 & 20.5 & 0.755 & $\\dots$ \\\\\n",
       "\t6 & Cleveland Cavaliers & 0.292 & 0.458 & 11.2 & 0.351 & 15.1 & 19.9 & 0.758 & $\\dots$ \\\\\n",
       "\t7 & Dallas Mavericks & 0.597 & 0.462 & 15.3 & 0.369 & 17.9 & 23.1 & 0.773 & $\\dots$ \\\\\n",
       "\t8 & Denver Nuggets & 0.662 & 0.471 & 10.9 & 0.358 & 15.9 & 20.5 & 0.775 & $\\dots$ \\\\\n",
       "\t9 & Detroit Pistons & 0.303 & 0.459 & 12.0 & 0.367 & 16.6 & 22.4 & 0.743 & $\\dots$ \\\\\n",
       "\t10 & Golden State Warriors & 0.231 & 0.438 & 10.4 & 0.334 & 18.7 & 23.2 & 0.803 & $\\dots$ \\\\\n",
       "\\end{tabular}\n"
      ],
      "text/plain": [
       "10×20 DataFrame. Omitted printing of 15 columns\n",
       "│ Row │ Team                  │ WLp     │ FGp     │ P3      │ P3p     │\n",
       "│     │ \u001b[90mString\u001b[39m                │ \u001b[90mFloat64\u001b[39m │ \u001b[90mFloat64\u001b[39m │ \u001b[90mFloat64\u001b[39m │ \u001b[90mFloat64\u001b[39m │\n",
       "├─────┼───────────────────────┼─────────┼─────────┼─────────┼─────────┤\n",
       "│ 1   │ Atlanta Hawks         │ 0.299   │ 0.449   │ 12.0    │ 0.333   │\n",
       "│ 2   │ Boston Celtics        │ 0.672   │ 0.459   │ 12.4    │ 0.363   │\n",
       "│ 3   │ Brooklyn Nets         │ 0.469   │ 0.444   │ 12.9    │ 0.34    │\n",
       "│ 4   │ Charlotte Hornets     │ 0.354   │ 0.434   │ 12.1    │ 0.352   │\n",
       "│ 5   │ Chicago Bulls         │ 0.338   │ 0.447   │ 12.2    │ 0.348   │\n",
       "│ 6   │ Cleveland Cavaliers   │ 0.292   │ 0.458   │ 11.2    │ 0.351   │\n",
       "│ 7   │ Dallas Mavericks      │ 0.597   │ 0.462   │ 15.3    │ 0.369   │\n",
       "│ 8   │ Denver Nuggets        │ 0.662   │ 0.471   │ 10.9    │ 0.358   │\n",
       "│ 9   │ Detroit Pistons       │ 0.303   │ 0.459   │ 12.0    │ 0.367   │\n",
       "│ 10  │ Golden State Warriors │ 0.231   │ 0.438   │ 10.4    │ 0.334   │"
      ]
     },
     "execution_count": 494,
     "metadata": {},
     "output_type": "execute_result"
    }
   ],
   "source": [
    "# Load Team Statistics Data Set\n",
    "teamStats = DataFrame(load(\"nba_data_2019_2020.xlsx\", \"Team Statistics\"))\n",
    "\n",
    "# Select Columns Relevant to Analysis\n",
    "teamStats = teamStats[:,[\"Team\",\"WLp\",\"FGp\",\"P3\",\"P3p\",\"FT\",\"FTA\",\"FTp\",\"ORB\",\"DRB\",\"TRB\",\"AST\",\"TOV\",\"PTS\",\"P3Ar\",\"Pace\",\n",
    "                        \"TSp\",\"eFGp\",\"ORtg\", \"DRtg\"]]\n",
    "\n",
    "first(teamStats,10)"
   ]
  },
  {
   "cell_type": "markdown",
   "metadata": {},
   "source": [
    "#   \n",
    "# Correlation Between Team Statistics and Winning "
   ]
  },
  {
   "cell_type": "markdown",
   "metadata": {},
   "source": [
    "Before developing the model, I want to see which team statistics are highly correlated with win/loss percentage (WLp) to determine which team statistics are generally correlated with winning. Then, I will incorporate these team statistics into the constraints of my optimization model."
   ]
  },
  {
   "cell_type": "markdown",
   "metadata": {},
   "source": [
    "### Shooting Statistics "
   ]
  },
  {
   "cell_type": "code",
   "execution_count": 495,
   "metadata": {},
   "outputs": [
    {
     "data": {
      "text/plain": [
       "10×10 Array{Float64,2}:\n",
       " 1.0         0.689017    0.753582  …   0.282948     0.451154    0.158433\n",
       " 0.689017    1.0         0.841701     -0.04627      0.61058    -0.247523\n",
       " 0.753582    0.841701    1.0           0.490377     0.727469    0.296467\n",
       " 0.731793    0.78827     0.954643      0.484772     0.71866     0.304677\n",
       " 0.199622    0.00892738  0.178444      0.325141     0.0469758   0.331365\n",
       " 0.183686   -0.037505    0.15977   …   0.371762    -0.0449432   0.400147\n",
       " 0.0960784   0.116533    0.107017      0.00296387   0.220396   -0.0493335\n",
       " 0.282948   -0.04627     0.490377      1.0          0.324536    0.943549\n",
       " 0.451154    0.61058     0.727469      0.324536     1.0         0.0519972\n",
       " 0.158433   -0.247523    0.296467      0.943549     0.0519972   1.0"
      ]
     },
     "execution_count": 495,
     "metadata": {},
     "output_type": "execute_result"
    }
   ],
   "source": [
    "Statistics.cor(Array(teamStats[:,[:WLp, :FGp, :eFGp, :TSp, :FT, :FTA , :FTp, :P3, :P3p, :P3Ar]]))"
   ]
  },
  {
   "cell_type": "markdown",
   "metadata": {},
   "source": [
    "As you can see from the first column, winning (WLp) is:\n",
    "\n",
    "* Strongly correlated with Field Goal Percentage (FGp), Effective Field Goal Percentage (eFGp), and True Shooting Percentage (TSp)\n",
    "* Moderately correlated with 3-Pointers Per Game (P3) and 3-Point Percentage (P3p)\n",
    "* Weakly correlated with 3-Point Attempt Rate (P3Ar), Free Throws Per Game (FT), Free Throw Attempts Per Game (FTA), and Free Throw Percentage (FTp)\n",
    "\n",
    "Since Effective Field Goal Percentage (**eFGp**) has the highest correlation with winning and is highly correlated with the other shooting percentages, I will include it in my model to represent shooting percentages in general. Despite 3-Pointers Per Game (**P3**) and 3-Point Percentage (**P3p**) only being moderately correlated with winning, I will include them in my model because of the growing importance of 3-point shooting in the NBA over the last couple years."
   ]
  },
  {
   "cell_type": "markdown",
   "metadata": {},
   "source": [
    "### General Offensive Statistics"
   ]
  },
  {
   "cell_type": "code",
   "execution_count": 496,
   "metadata": {},
   "outputs": [
    {
     "data": {
      "text/plain": [
       "5×5 Array{Float64,2}:\n",
       "  1.0         0.548474  0.151006  -0.281933  0.0688078\n",
       "  0.548474    1.0       0.147627  -0.034426  0.73421\n",
       "  0.151006    0.147627  1.0        0.181112  0.193911\n",
       " -0.281933   -0.034426  0.181112   1.0       0.36226\n",
       "  0.0688078   0.73421   0.193911   0.36226   1.0"
      ]
     },
     "execution_count": 496,
     "metadata": {},
     "output_type": "execute_result"
    }
   ],
   "source": [
    "Statistics.cor(Array(teamStats[:,[:WLp, :PTS, :AST, :TOV, :Pace]]))"
   ]
  },
  {
   "cell_type": "markdown",
   "metadata": {},
   "source": [
    "As you can see from the first column, winning (WLp) is:\n",
    "\n",
    "* Strongly correlated with Points Per Game (PTS)\n",
    "* Moderately correlated with Turnovers (TOV)\n",
    "* Weakly correlated with Assists (AST) and Pace\n",
    "\n",
    "I will include Points Per Game (**PTS**) in my model since it is strongly correlated with winning."
   ]
  },
  {
   "cell_type": "markdown",
   "metadata": {},
   "source": [
    "### Rebounding Statistics "
   ]
  },
  {
   "cell_type": "code",
   "execution_count": 497,
   "metadata": {},
   "outputs": [
    {
     "data": {
      "text/plain": [
       "4×4 Array{Float64,2}:\n",
       "  1.0       -0.242412    0.648027   0.528056\n",
       " -0.242412   1.0        -0.0987819  0.293603\n",
       "  0.648027  -0.0987819   1.0        0.922102\n",
       "  0.528056   0.293603    0.922102   1.0"
      ]
     },
     "execution_count": 497,
     "metadata": {},
     "output_type": "execute_result"
    }
   ],
   "source": [
    "Statistics.cor(Array(teamStats[:,[:WLp, :ORB, :DRB, :TRB]]))"
   ]
  },
  {
   "cell_type": "markdown",
   "metadata": {},
   "source": [
    "As you can see from the first column, winning (WLp) is:\n",
    "\n",
    "* Strongly correlated with Defensive Rebounding (DRB) and Total Rebounding (TRB)\n",
    "* Moderately correlated with Offensive Rebounding (ORB)\n",
    "\n",
    "Since Defensive Rebounding (**DRB**) has the highest correlation with winning and is highly correlated with the Total Rebounding (TRB), I will include it in my model to represent rebounding in general."
   ]
  },
  {
   "cell_type": "markdown",
   "metadata": {},
   "source": [
    "### Offensive and Defensive Rating "
   ]
  },
  {
   "cell_type": "code",
   "execution_count": 498,
   "metadata": {},
   "outputs": [
    {
     "data": {
      "text/plain": [
       "3×3 Array{Float64,2}:\n",
       "  1.0        0.762857  -0.859602\n",
       "  0.762857   1.0       -0.42703\n",
       " -0.859602  -0.42703    1.0"
      ]
     },
     "execution_count": 498,
     "metadata": {},
     "output_type": "execute_result"
    }
   ],
   "source": [
    "Statistics.cor(Array(teamStats[:,[:WLp, :ORtg, :DRtg]]))"
   ]
  },
  {
   "cell_type": "markdown",
   "metadata": {},
   "source": [
    "As you can see from the first column, winning (WLp) is:\n",
    "\n",
    "* Strongly correlated with Defensive Rating (DRtg) and Offensive Rating (ORtg)\n",
    "\n",
    "Interestingly, defensive rating has a stronger correlation with winning than offensive rating. Thus, it is vital to include defensive metrics in my model.\n",
    "\n",
    "Although Basketball Reference has data on team Defensive Rating (DRtg), it unfortunately does not have data on individual player Defensive Rating. Thus, as a substitute for Defensive Rating, I will incorporate Defensive Win Shares (**DWS**) and Defensive-Box Plus Minus (**DBPM**) in my model."
   ]
  },
  {
   "cell_type": "markdown",
   "metadata": {},
   "source": [
    "#    "
   ]
  },
  {
   "cell_type": "markdown",
   "metadata": {},
   "source": [
    "Taken together, winning teams tend to shoot efficiently, get a lot of rebounds (especially defensive rebounds), score a lot of points (especially three pointers), and hold opposing teams to very few points, which all intuitively make sense.\n",
    "\n",
    "Thus, I will incorporate the following statistics into the constraints of my model: Effective Field Goal Percentage (eFGp), 3-Pointers Per Game (P3), 3-Point Percentage (P3p), Points Per Game (PTS), Defensive Rebounds Per Game (DRB), Defensive Win Shares (DWS), and Defensive Box-Plus Minus (DBPM)."
   ]
  },
  {
   "cell_type": "markdown",
   "metadata": {},
   "source": [
    "#   \n",
    "# Determining Constraint Values "
   ]
  },
  {
   "cell_type": "markdown",
   "metadata": {},
   "source": [
    "Now that I have determined which variables to include in my model constraints, I must determine the cutoff value for each constraint. I have decided to set the maximum value of each team statistic as the cutoff for each corresponding constraint. In other words, I want my team to shoot more 3 pointers, get more defensive rebounds, and score more points than any team in the NBA. I also want them to shoot more efficiently than any other team."
   ]
  },
  {
   "cell_type": "code",
   "execution_count": 499,
   "metadata": {},
   "outputs": [
    {
     "data": {
      "text/html": [
       "<table class=\"data-frame\"><thead><tr><th></th><th>variable</th><th>max</th></tr><tr><th></th><th>Symbol</th><th>Float64</th></tr></thead><tbody><p>5 rows × 2 columns</p><tr><th>1</th><td>P3</td><td>15.4</td></tr><tr><th>2</th><td>DRB</td><td>42.2</td></tr><tr><th>3</th><td>PTS</td><td>118.6</td></tr><tr><th>4</th><td>P3p</td><td>0.383</td></tr><tr><th>5</th><td>eFGp</td><td>0.553</td></tr></tbody></table>"
      ],
      "text/latex": [
       "\\begin{tabular}{r|cc}\n",
       "\t& variable & max\\\\\n",
       "\t\\hline\n",
       "\t& Symbol & Float64\\\\\n",
       "\t\\hline\n",
       "\t1 & P3 & 15.4 \\\\\n",
       "\t2 & DRB & 42.2 \\\\\n",
       "\t3 & PTS & 118.6 \\\\\n",
       "\t4 & P3p & 0.383 \\\\\n",
       "\t5 & eFGp & 0.553 \\\\\n",
       "\\end{tabular}\n"
      ],
      "text/plain": [
       "5×2 DataFrame\n",
       "│ Row │ variable │ max     │\n",
       "│     │ \u001b[90mSymbol\u001b[39m   │ \u001b[90mFloat64\u001b[39m │\n",
       "├─────┼──────────┼─────────┤\n",
       "│ 1   │ P3       │ 15.4    │\n",
       "│ 2   │ DRB      │ 42.2    │\n",
       "│ 3   │ PTS      │ 118.6   │\n",
       "│ 4   │ P3p      │ 0.383   │\n",
       "│ 5   │ eFGp     │ 0.553   │"
      ]
     },
     "execution_count": 499,
     "metadata": {},
     "output_type": "execute_result"
    }
   ],
   "source": [
    "# Store Maximum Value of All Team Variables\n",
    "P3_max = maximum(teamStats[!,:P3])\n",
    "DRB_max = maximum(teamStats[!,:DRB])\n",
    "PTS_max = maximum(teamStats[!,:PTS])\n",
    "P3p_max = maximum(teamStats[!,:P3p])\n",
    "eFGp_max = maximum(teamStats[!,:eFGp])\n",
    "\n",
    "# Display Maximum Values of All Team Variables\n",
    "describe(teamStats[:,[:P3,:DRB,:PTS,:P3p,:eFGp]], :max)"
   ]
  },
  {
   "cell_type": "markdown",
   "metadata": {},
   "source": [
    "Since I will be using Defensive Win Shares (DWS) and Defensive-Box Plus Minus (DBPM) which are individual statistics, rather than taking the maximum of each statistic, I will set the 75th percentile (3rd quartile) of DWS and DBPM as their respective cutoff constraint values. This will ensure that the average player selected by my model will be an elite defender."
   ]
  },
  {
   "cell_type": "code",
   "execution_count": 500,
   "metadata": {},
   "outputs": [
    {
     "data": {
      "text/html": [
       "<table class=\"data-frame\"><thead><tr><th></th><th>variable</th><th>q75</th></tr><tr><th></th><th>Symbol</th><th>Float64</th></tr></thead><tbody><p>2 rows × 2 columns</p><tr><th>1</th><td>DWS</td><td>1.6</td></tr><tr><th>2</th><td>DBPM</td><td>0.9</td></tr></tbody></table>"
      ],
      "text/latex": [
       "\\begin{tabular}{r|cc}\n",
       "\t& variable & q75\\\\\n",
       "\t\\hline\n",
       "\t& Symbol & Float64\\\\\n",
       "\t\\hline\n",
       "\t1 & DWS & 1.6 \\\\\n",
       "\t2 & DBPM & 0.9 \\\\\n",
       "\\end{tabular}\n"
      ],
      "text/plain": [
       "2×2 DataFrame\n",
       "│ Row │ variable │ q75     │\n",
       "│     │ \u001b[90mSymbol\u001b[39m   │ \u001b[90mFloat64\u001b[39m │\n",
       "├─────┼──────────┼─────────┤\n",
       "│ 1   │ DWS      │ 1.6     │\n",
       "│ 2   │ DBPM     │ 0.9     │"
      ]
     },
     "execution_count": 500,
     "metadata": {},
     "output_type": "execute_result"
    }
   ],
   "source": [
    "# Store 75th percentile of DWS and DBPM\n",
    "DWS_q75 = percentile(playerData[!,:DWS], 75)\n",
    "DBPM_q75 = percentile(playerData[!,:DBPM], 75)\n",
    "\n",
    "# Display 75th percentile of DWS and DBPM\n",
    "describe(playerData[:, [:DWS,:DBPM]], :q75)"
   ]
  },
  {
   "cell_type": "markdown",
   "metadata": {},
   "source": [
    "Now that I have the values for my constraints, I will create the model."
   ]
  },
  {
   "cell_type": "markdown",
   "metadata": {},
   "source": [
    "#    \n",
    "# Basketize Model"
   ]
  },
  {
   "cell_type": "markdown",
   "metadata": {},
   "source": [
    "Basketize utilizes mixed-integer optimization (MIO) which is a mathematical technique that optimizes an objective function (primary goal) while satisfying certain constraints where certain variables take integer values and other variables take continuous values.  MIO consists of three components: \n",
    "* An objective function which is either maximized or minimized\n",
    "* Variables which control the objective function and decide the output\n",
    "* Constraints that allows the variables to take certain values while excluding others (limitations of the decision variables)\n",
    "\n",
    "First, I will define the decision integer (binary) variable as:\n",
    "\n",
    "$$\n",
    "    x_i=\\left\\{\n",
    "                \\begin{array}{ll}\n",
    "                  1 & \\text{if player $i$ is selected to the team,}\\\\\n",
    "                  0 & \\text{if player $i$ is not selected to the team}\n",
    "                \\end{array}\n",
    "              \\right.\n",
    "$$\n",
    "\n",
    "Next, I will set the objective function to minimize the collective salary of the players selected to be on the team. I'll denote player $i$'s salary as $o_i$. Thus, the objective function is defined as:\n",
    "\n",
    "$$ min \\sum_{i=1}^{N}(x_i*o_i)$$\n",
    "\n",
    "subject to the following constraints:\n",
    "\n",
    "$ \\sum_{i=1}^{N}(x_i) = 12$\n",
    "\n",
    "$ \\sum_{i=1}^{N}(x_i*t_i) \\geq 15.4$ where $t_i$ is player $i$'s 3 Pointers Per Game \n",
    "\n",
    "$ \\sum_{i=1}^{N}(x_i*u_i) \\geq 42.2$ where $u_i$ is player $i$'s Defensive Rebounds Per Game\n",
    "\n",
    "$ \\sum_{i=1}^{N}(x_i*p_i) \\geq 118.6$ where $p_i$ is player $i$'s Points Per Game\n",
    "\n",
    "     \n",
    "\n",
    "$ \\frac{1}{12} \\sum_{i=1}^{N}(x_i*h_i) \\geq 0.383$ where $h_i$ is player $i$'s 3-Point Percentage\n",
    "\n",
    "$ \\frac{1}{12} \\sum_{i=1}^{N}(x_i*v_i) \\geq 0.553$ where $v_i$ is player $i$'s Effective Field Goal Percentage\n",
    "\n",
    "       \n",
    "\n",
    "$ \\frac{1}{12} \\sum_{i=1}^{N}(x_i*b_i) \\geq 0.9$ where $b_i$ is player $i$'s Defensive Box Plus Minus\n",
    "\n",
    "$ \\frac{1}{12} \\sum_{i=1}^{N}(x_i*w_i) \\geq 1.6$ where $w_i$ is player $i$'s Defensive Win Shares"
   ]
  },
  {
   "cell_type": "markdown",
   "metadata": {},
   "source": [
    "These constraints will ensure my optimized dream team consisting of 12 players will lead the NBA in three-pointers, defensive rebounding, and points per game. In addition, they will lead the league in team three-point and effective field goal percentage. Finally, the team average for defensive win shares and defensive box-plus minus will be among the highest in the NBA."
   ]
  },
  {
   "cell_type": "markdown",
   "metadata": {},
   "source": [
    "I also want to include minutes per game and position constraints in my model. Specifically, I want to have at least two players at each position. I also want the players at each position to collectively play approximately 48 minutes per game. For example, the minutes and position constraints for centers would be:\n",
    "\n",
    "$ \\sum_{i=1}^{N}(x_i*c_i) \\geq 2$\n",
    "\n",
    "$ \\sum_{i=1}^{N}(x_i*m_i*c_i) \\leq 48$\n",
    "\n",
    "where $m_i$ is player $i$'s minutes per game and \n",
    "$$\n",
    "    c_i=\\left\\{\n",
    "                \\begin{array}{ll}\n",
    "                  1 & \\text{if player $i$ is a center,}\\\\\n",
    "                  0 & \\text{if player $i$ is not a center}\n",
    "                \\end{array}\n",
    "              \\right.\n",
    "$$"
   ]
  },
  {
   "cell_type": "code",
   "execution_count": 501,
   "metadata": {},
   "outputs": [
    {
     "data": {
      "text/plain": [
       "basketize_team (generic function with 2 methods)"
      ]
     },
     "execution_count": 501,
     "metadata": {},
     "output_type": "execute_result"
    }
   ],
   "source": [
    "function basketize_team(df)\n",
    "    model = Model(Cbc.Optimizer)\n",
    "    set_silent(model)\n",
    "    \n",
    "    # Define N to Represent the Index of Each Player\n",
    "    N = nrow(df)\n",
    "    @variable(model, x[1:N], Bin)\n",
    "    \n",
    "    # Objective Function\n",
    "    o = df[!,:Salary2019_20];\n",
    "    @objective(model, Min, sum(x[i]*o[i] for i=1:N))\n",
    "    \n",
    "    # Team Size Constraint\n",
    "    @constraint(model, sum(x[i] for i=1:N) == 12);\n",
    "    \n",
    "    # Position Constraints\n",
    "    c = ifelse.(df[!,:Pos].==\"C\",1,0);\n",
    "    @constraint(model, sum(x[i]*c[i] for i=1:N) >= 2);\n",
    "\n",
    "    d = ifelse.(df[!,:Pos].==\"PF\",1,0);\n",
    "    @constraint(model, sum(x[i]*d[i] for i=1:N) >= 2);\n",
    "    \n",
    "    e = ifelse.(df[!,:Pos].==\"SF\",1,0);\n",
    "    @constraint(model, sum(x[i]*e[i] for i=1:N) >= 2);\n",
    "    \n",
    "    f = ifelse.(df[!,:Pos].==\"SG\",1,0);\n",
    "    @constraint(model, sum(x[i]*f[i] for i=1:N) >= 2);\n",
    "    \n",
    "    g = ifelse.(df[!,:Pos].==\"PG\",1,0);\n",
    "    @constraint(model, sum(x[i]*g[i] for i=1:N) >= 2);\n",
    "    \n",
    "    # Minutes Constraint\n",
    "    m = df[!,:MP]\n",
    "    @constraint(model, sum(x[i]*m[i]*c[i] for i=1:N) <= 48);\n",
    "    @constraint(model, sum(x[i]*m[i]*d[i] for i=1:N) <= 48);\n",
    "    @constraint(model, sum(x[i]*m[i]*e[i] for i=1:N) <= 48);\n",
    "    @constraint(model, sum(x[i]*m[i]*f[i] for i=1:N) <= 48);\n",
    "    @constraint(model, sum(x[i]*m[i]*g[i] for i=1:N) <= 48);\n",
    "    \n",
    "    \n",
    "    # 3-Pointers Constraint\n",
    "    t = df[!,:P3]\n",
    "    @constraint(model, sum(x[i]*t[i] for i=1:N) >= P3_max);\n",
    "    \n",
    "    # Defensive-Rebounds Constraint\n",
    "    u = df[!,:DRB]\n",
    "    @constraint(model, sum(x[i]*u[i] for i=1:N) >= DRB_max);\n",
    "    \n",
    "    # Points Constraint\n",
    "    p = df[!,:PTS]\n",
    "    @constraint(model, sum(x[i]*p[i] for i=1:N) >= PTS_max);\n",
    "    \n",
    "    # 3-Point Percentage Constraint\n",
    "    h = df[!,:P3p]\n",
    "    @constraint(model, 1/12*sum(x[i]*h[i] for i=1:N) >= P3p_max);\n",
    "    \n",
    "    # Effective Field Goal Percentage Constraint\n",
    "    v = df[!,:eFGp]\n",
    "    @constraint(model, 1/12*sum(x[i]*v[i] for i=1:N) >= eFGp_max);\n",
    "    \n",
    "    # Defensive Box Plus-Minus Constraint\n",
    "    b = df[!,:DBPM]\n",
    "    @constraint(model, 1/12*sum(x[i]*b[i] for i=1:N) >= DBPM_q75);\n",
    "    \n",
    "    # Defensive Win Shares Constraint\n",
    "    w = df[!,:DWS]\n",
    "    @constraint(model, 1/12*sum(x[i]*w[i] for i=1:N) >= DWS_q75);\n",
    "\n",
    "    optimize!(model)\n",
    "    \n",
    "    # Extract Selected Players\n",
    "    players = sort(df[value.(x).>0.99,:Player])\n",
    "    return(df[value.(x).>0.99,[:Player,:Pos,:MP,:eFGp,:P3p,:P3,:PTS,:DRB,:DBPM,:DWS,:Salary2019_20]])\n",
    "end"
   ]
  },
  {
   "cell_type": "markdown",
   "metadata": {},
   "source": [
    "### Optimized Dream Team "
   ]
  },
  {
   "cell_type": "code",
   "execution_count": 502,
   "metadata": {},
   "outputs": [
    {
     "data": {
      "text/html": [
       "<table class=\"data-frame\"><thead><tr><th></th><th>Player</th><th>Pos</th><th>MP</th><th>eFGp</th><th>P3p</th><th>P3</th><th>PTS</th><th>DRB</th></tr><tr><th></th><th>String</th><th>String</th><th>Float64</th><th>Float64</th><th>Float64</th><th>Float64</th><th>Float64</th><th>Float64</th></tr></thead><tbody><p>12 rows × 11 columns (omitted printing of 3 columns)</p><tr><th>1</th><td>Chris Boucher</td><td>PF</td><td>13.2</td><td>0.512</td><td>0.283</td><td>0.5</td><td>6.3</td><td>2.7</td></tr><tr><th>2</th><td>DeAndre Jordan</td><td>C</td><td>22.0</td><td>0.666</td><td>0.0</td><td>0.0</td><td>8.3</td><td>7.5</td></tr><tr><th>3</th><td>Donte DiVincenzo</td><td>SG</td><td>23.1</td><td>0.546</td><td>0.344</td><td>1.3</td><td>9.4</td><td>3.9</td></tr><tr><th>4</th><td>Duncan Robinson</td><td>SF</td><td>30.0</td><td>0.665</td><td>0.448</td><td>3.7</td><td>13.3</td><td>3.1</td></tr><tr><th>5</th><td>Jayson Tatum</td><td>PF</td><td>34.6</td><td>0.523</td><td>0.398</td><td>2.8</td><td>23.6</td><td>6.1</td></tr><tr><th>6</th><td>Justin Holiday</td><td>SG</td><td>24.9</td><td>0.581</td><td>0.424</td><td>1.9</td><td>8.4</td><td>2.7</td></tr><tr><th>7</th><td>Kyle O'Quinn</td><td>C</td><td>9.9</td><td>0.535</td><td>0.304</td><td>0.3</td><td>3.3</td><td>2.5</td></tr><tr><th>8</th><td>Luka Dončić</td><td>PG</td><td>33.3</td><td>0.531</td><td>0.318</td><td>2.9</td><td>28.7</td><td>8.0</td></tr><tr><th>9</th><td>Mfiondu Kabengele</td><td>C</td><td>5.3</td><td>0.578</td><td>0.45</td><td>0.8</td><td>3.5</td><td>0.8</td></tr><tr><th>10</th><td>Raul Neto</td><td>PG</td><td>11.5</td><td>0.531</td><td>0.394</td><td>0.6</td><td>4.3</td><td>0.8</td></tr><tr><th>11</th><td>Sterling Brown</td><td>SF</td><td>14.8</td><td>0.45</td><td>0.316</td><td>0.8</td><td>5.0</td><td>3.0</td></tr><tr><th>12</th><td>Tony Bradley</td><td>C</td><td>10.7</td><td>0.668</td><td>1.0</td><td>0.0</td><td>4.7</td><td>2.5</td></tr></tbody></table>"
      ],
      "text/latex": [
       "\\begin{tabular}{r|ccccccccc}\n",
       "\t& Player & Pos & MP & eFGp & P3p & P3 & PTS & DRB & \\\\\n",
       "\t\\hline\n",
       "\t& String & String & Float64 & Float64 & Float64 & Float64 & Float64 & Float64 & \\\\\n",
       "\t\\hline\n",
       "\t1 & Chris Boucher & PF & 13.2 & 0.512 & 0.283 & 0.5 & 6.3 & 2.7 & $\\dots$ \\\\\n",
       "\t2 & DeAndre Jordan & C & 22.0 & 0.666 & 0.0 & 0.0 & 8.3 & 7.5 & $\\dots$ \\\\\n",
       "\t3 & Donte DiVincenzo & SG & 23.1 & 0.546 & 0.344 & 1.3 & 9.4 & 3.9 & $\\dots$ \\\\\n",
       "\t4 & Duncan Robinson & SF & 30.0 & 0.665 & 0.448 & 3.7 & 13.3 & 3.1 & $\\dots$ \\\\\n",
       "\t5 & Jayson Tatum & PF & 34.6 & 0.523 & 0.398 & 2.8 & 23.6 & 6.1 & $\\dots$ \\\\\n",
       "\t6 & Justin Holiday & SG & 24.9 & 0.581 & 0.424 & 1.9 & 8.4 & 2.7 & $\\dots$ \\\\\n",
       "\t7 & Kyle O'Quinn & C & 9.9 & 0.535 & 0.304 & 0.3 & 3.3 & 2.5 & $\\dots$ \\\\\n",
       "\t8 & Luka Dončić & PG & 33.3 & 0.531 & 0.318 & 2.9 & 28.7 & 8.0 & $\\dots$ \\\\\n",
       "\t9 & Mfiondu Kabengele & C & 5.3 & 0.578 & 0.45 & 0.8 & 3.5 & 0.8 & $\\dots$ \\\\\n",
       "\t10 & Raul Neto & PG & 11.5 & 0.531 & 0.394 & 0.6 & 4.3 & 0.8 & $\\dots$ \\\\\n",
       "\t11 & Sterling Brown & SF & 14.8 & 0.45 & 0.316 & 0.8 & 5.0 & 3.0 & $\\dots$ \\\\\n",
       "\t12 & Tony Bradley & C & 10.7 & 0.668 & 1.0 & 0.0 & 4.7 & 2.5 & $\\dots$ \\\\\n",
       "\\end{tabular}\n"
      ],
      "text/plain": [
       "12×11 DataFrame. Omitted printing of 5 columns\n",
       "│ Row │ Player            │ Pos    │ MP      │ eFGp    │ P3p     │ P3      │\n",
       "│     │ \u001b[90mString\u001b[39m            │ \u001b[90mString\u001b[39m │ \u001b[90mFloat64\u001b[39m │ \u001b[90mFloat64\u001b[39m │ \u001b[90mFloat64\u001b[39m │ \u001b[90mFloat64\u001b[39m │\n",
       "├─────┼───────────────────┼────────┼─────────┼─────────┼─────────┼─────────┤\n",
       "│ 1   │ Chris Boucher     │ PF     │ 13.2    │ 0.512   │ 0.283   │ 0.5     │\n",
       "│ 2   │ DeAndre Jordan    │ C      │ 22.0    │ 0.666   │ 0.0     │ 0.0     │\n",
       "│ 3   │ Donte DiVincenzo  │ SG     │ 23.1    │ 0.546   │ 0.344   │ 1.3     │\n",
       "│ 4   │ Duncan Robinson   │ SF     │ 30.0    │ 0.665   │ 0.448   │ 3.7     │\n",
       "│ 5   │ Jayson Tatum      │ PF     │ 34.6    │ 0.523   │ 0.398   │ 2.8     │\n",
       "│ 6   │ Justin Holiday    │ SG     │ 24.9    │ 0.581   │ 0.424   │ 1.9     │\n",
       "│ 7   │ Kyle O'Quinn      │ C      │ 9.9     │ 0.535   │ 0.304   │ 0.3     │\n",
       "│ 8   │ Luka Dončić       │ PG     │ 33.3    │ 0.531   │ 0.318   │ 2.9     │\n",
       "│ 9   │ Mfiondu Kabengele │ C      │ 5.3     │ 0.578   │ 0.45    │ 0.8     │\n",
       "│ 10  │ Raul Neto         │ PG     │ 11.5    │ 0.531   │ 0.394   │ 0.6     │\n",
       "│ 11  │ Sterling Brown    │ SF     │ 14.8    │ 0.45    │ 0.316   │ 0.8     │\n",
       "│ 12  │ Tony Bradley      │ C      │ 10.7    │ 0.668   │ 1.0     │ 0.0     │"
      ]
     },
     "execution_count": 502,
     "metadata": {},
     "output_type": "execute_result"
    }
   ],
   "source": [
    "# Extract Model Selected Players With Their Statistics\n",
    "basketized_roster = basketize_team(playerData)"
   ]
  },
  {
   "cell_type": "code",
   "execution_count": 503,
   "metadata": {},
   "outputs": [
    {
     "data": {
      "text/plain": [
       "4.539646e7"
      ]
     },
     "execution_count": 503,
     "metadata": {},
     "output_type": "execute_result"
    }
   ],
   "source": [
    "# Compute Optimized Dream Team Payroll\n",
    "sum(basketized_roster.Salary2019_20)"
   ]
  },
  {
   "cell_type": "markdown",
   "metadata": {},
   "source": [
    "Despite leading the NBA in almost all team statistics related to winning, the payroll of my optimized dream team would only be about \\\\$45 Million which is about \\\\$80 million less than the average NBA team."
   ]
  },
  {
   "cell_type": "markdown",
   "metadata": {},
   "source": [
    "#  \n",
    "# Optimizing Toronto Raptors Roster via Free Agency "
   ]
  },
  {
   "cell_type": "markdown",
   "metadata": {},
   "source": [
    "Now, I will apply the model to a real-life problem all NBA teams face every year which is determining which players to sign in free agency. I will apply the model to the Toronto Raptors, but it could be applied to any of the 30 NBA teams."
   ]
  },
  {
   "cell_type": "markdown",
   "metadata": {},
   "source": [
    "### NBA Free Agents "
   ]
  },
  {
   "cell_type": "markdown",
   "metadata": {},
   "source": [
    "Before determining which free agents the Raptors should try to acquire, I must first determine which players will become free agents in the 2020 offseason. These players will be those without a contract for the 2020-2021 season."
   ]
  },
  {
   "cell_type": "code",
   "execution_count": 504,
   "metadata": {},
   "outputs": [
    {
     "data": {
      "text/html": [
       "<table class=\"data-frame\"><thead><tr><th></th><th>Player</th><th>Pos</th><th>Tm</th><th>G</th><th>MP</th><th>FGp</th><th>P3</th><th>P3p</th><th>eFGp</th></tr><tr><th></th><th>String</th><th>String</th><th>String</th><th>Float64</th><th>Float64</th><th>Float64</th><th>Float64</th><th>Float64</th><th>Float64</th></tr></thead><tbody><p>10 rows × 27 columns (omitted printing of 18 columns)</p><tr><th>1</th><td>Alec Burks</td><td>SG</td><td>TOT</td><td>59.0</td><td>27.3</td><td>0.404</td><td>1.7</td><td>0.366</td><td>0.475</td></tr><tr><th>2</th><td>Alex Len</td><td>C</td><td>TOT</td><td>49.0</td><td>18.3</td><td>0.556</td><td>0.3</td><td>0.25</td><td>0.579</td></tr><tr><th>3</th><td>Alize Johnson</td><td>SF</td><td>IND</td><td>13.0</td><td>4.2</td><td>0.467</td><td>0.0</td><td>0.0</td><td>0.467</td></tr><tr><th>4</th><td>Allen Crabbe</td><td>SG</td><td>TOT</td><td>37.0</td><td>17.6</td><td>0.356</td><td>1.0</td><td>0.303</td><td>0.458</td></tr><tr><th>5</th><td>Allonzo Trier</td><td>PG</td><td>NYK</td><td>24.0</td><td>12.1</td><td>0.481</td><td>0.8</td><td>0.358</td><td>0.571</td></tr><tr><th>6</th><td>Amile Jefferson</td><td>PF</td><td>ORL</td><td>18.0</td><td>4.1</td><td>0.357</td><td>0.0</td><td>0.0</td><td>0.357</td></tr><tr><th>7</th><td>Ante Žižić</td><td>C</td><td>CLE</td><td>22.0</td><td>10.0</td><td>0.569</td><td>0.0</td><td>0.0</td><td>0.569</td></tr><tr><th>8</th><td>Anthony Tolliver</td><td>PF</td><td>TOT</td><td>47.0</td><td>15.6</td><td>0.348</td><td>0.8</td><td>0.322</td><td>0.474</td></tr><tr><th>9</th><td>Anžejs Pasečņiks</td><td>C</td><td>WAS</td><td>24.0</td><td>16.9</td><td>0.528</td><td>0.0</td><td>0.0</td><td>0.528</td></tr><tr><th>10</th><td>Aron Baynes</td><td>C</td><td>PHO</td><td>42.0</td><td>22.2</td><td>0.48</td><td>1.4</td><td>0.351</td><td>0.558</td></tr></tbody></table>"
      ],
      "text/latex": [
       "\\begin{tabular}{r|cccccccccc}\n",
       "\t& Player & Pos & Tm & G & MP & FGp & P3 & P3p & eFGp & \\\\\n",
       "\t\\hline\n",
       "\t& String & String & String & Float64 & Float64 & Float64 & Float64 & Float64 & Float64 & \\\\\n",
       "\t\\hline\n",
       "\t1 & Alec Burks & SG & TOT & 59.0 & 27.3 & 0.404 & 1.7 & 0.366 & 0.475 & $\\dots$ \\\\\n",
       "\t2 & Alex Len & C & TOT & 49.0 & 18.3 & 0.556 & 0.3 & 0.25 & 0.579 & $\\dots$ \\\\\n",
       "\t3 & Alize Johnson & SF & IND & 13.0 & 4.2 & 0.467 & 0.0 & 0.0 & 0.467 & $\\dots$ \\\\\n",
       "\t4 & Allen Crabbe & SG & TOT & 37.0 & 17.6 & 0.356 & 1.0 & 0.303 & 0.458 & $\\dots$ \\\\\n",
       "\t5 & Allonzo Trier & PG & NYK & 24.0 & 12.1 & 0.481 & 0.8 & 0.358 & 0.571 & $\\dots$ \\\\\n",
       "\t6 & Amile Jefferson & PF & ORL & 18.0 & 4.1 & 0.357 & 0.0 & 0.0 & 0.357 & $\\dots$ \\\\\n",
       "\t7 & Ante Žižić & C & CLE & 22.0 & 10.0 & 0.569 & 0.0 & 0.0 & 0.569 & $\\dots$ \\\\\n",
       "\t8 & Anthony Tolliver & PF & TOT & 47.0 & 15.6 & 0.348 & 0.8 & 0.322 & 0.474 & $\\dots$ \\\\\n",
       "\t9 & Anžejs Pasečņiks & C & WAS & 24.0 & 16.9 & 0.528 & 0.0 & 0.0 & 0.528 & $\\dots$ \\\\\n",
       "\t10 & Aron Baynes & C & PHO & 42.0 & 22.2 & 0.48 & 1.4 & 0.351 & 0.558 & $\\dots$ \\\\\n",
       "\\end{tabular}\n"
      ],
      "text/plain": [
       "10×27 DataFrame. Omitted printing of 21 columns\n",
       "│ Row │ Player           │ Pos    │ Tm     │ G       │ MP      │ FGp     │\n",
       "│     │ \u001b[90mString\u001b[39m           │ \u001b[90mString\u001b[39m │ \u001b[90mString\u001b[39m │ \u001b[90mFloat64\u001b[39m │ \u001b[90mFloat64\u001b[39m │ \u001b[90mFloat64\u001b[39m │\n",
       "├─────┼──────────────────┼────────┼────────┼─────────┼─────────┼─────────┤\n",
       "│ 1   │ Alec Burks       │ SG     │ TOT    │ 59.0    │ 27.3    │ 0.404   │\n",
       "│ 2   │ Alex Len         │ C      │ TOT    │ 49.0    │ 18.3    │ 0.556   │\n",
       "│ 3   │ Alize Johnson    │ SF     │ IND    │ 13.0    │ 4.2     │ 0.467   │\n",
       "│ 4   │ Allen Crabbe     │ SG     │ TOT    │ 37.0    │ 17.6    │ 0.356   │\n",
       "│ 5   │ Allonzo Trier    │ PG     │ NYK    │ 24.0    │ 12.1    │ 0.481   │\n",
       "│ 6   │ Amile Jefferson  │ PF     │ ORL    │ 18.0    │ 4.1     │ 0.357   │\n",
       "│ 7   │ Ante Žižić       │ C      │ CLE    │ 22.0    │ 10.0    │ 0.569   │\n",
       "│ 8   │ Anthony Tolliver │ PF     │ TOT    │ 47.0    │ 15.6    │ 0.348   │\n",
       "│ 9   │ Anžejs Pasečņiks │ C      │ WAS    │ 24.0    │ 16.9    │ 0.528   │\n",
       "│ 10  │ Aron Baynes      │ C      │ PHO    │ 42.0    │ 22.2    │ 0.48    │"
      ]
     },
     "execution_count": 504,
     "metadata": {},
     "output_type": "execute_result"
    }
   ],
   "source": [
    "# Find Free Agents\n",
    "freeAgents = playerData[ismissing.(playerData[!,:Salary2020_21]),:]\n",
    "first(freeAgents,10)"
   ]
  },
  {
   "cell_type": "markdown",
   "metadata": {},
   "source": [
    "Now that I have a data frame with all the free agents, I need a data frame of all the players the Raptors have already signed for the 2020-2021 season."
   ]
  },
  {
   "cell_type": "markdown",
   "metadata": {},
   "source": [
    "### Non-Free Agent Raptors "
   ]
  },
  {
   "cell_type": "code",
   "execution_count": 505,
   "metadata": {},
   "outputs": [
    {
     "data": {
      "text/html": [
       "<table class=\"data-frame\"><thead><tr><th></th><th>Player</th><th>Pos</th><th>Tm</th><th>G</th><th>MP</th><th>FGp</th><th>P3</th><th>P3p</th><th>eFGp</th></tr><tr><th></th><th>String</th><th>String</th><th>String</th><th>Float64</th><th>Float64</th><th>Float64</th><th>Float64</th><th>Float64</th><th>Float64</th></tr></thead><tbody><p>8 rows × 27 columns (omitted printing of 18 columns)</p><tr><th>1</th><td>Kyle Lowry</td><td>PG</td><td>TOR</td><td>52.0</td><td>36.6</td><td>0.417</td><td>2.9</td><td>0.354</td><td>0.52</td></tr><tr><th>2</th><td>Matt Thomas</td><td>SG</td><td>TOR</td><td>33.0</td><td>9.7</td><td>0.486</td><td>1.1</td><td>0.467</td><td>0.644</td></tr><tr><th>3</th><td>Norman Powell</td><td>SG</td><td>TOR</td><td>44.0</td><td>28.8</td><td>0.502</td><td>2.1</td><td>0.398</td><td>0.593</td></tr><tr><th>4</th><td>OG Anunoby</td><td>SF</td><td>TOR</td><td>63.0</td><td>30.1</td><td>0.507</td><td>1.3</td><td>0.381</td><td>0.584</td></tr><tr><th>5</th><td>Pascal Siakam</td><td>PF</td><td>TOR</td><td>53.0</td><td>35.5</td><td>0.459</td><td>2.2</td><td>0.359</td><td>0.517</td></tr><tr><th>6</th><td>Patrick McCaw</td><td>SF</td><td>TOR</td><td>37.0</td><td>24.5</td><td>0.414</td><td>0.6</td><td>0.324</td><td>0.485</td></tr><tr><th>7</th><td>Stanley Johnson</td><td>PF</td><td>TOR</td><td>20.0</td><td>4.8</td><td>0.258</td><td>0.1</td><td>0.154</td><td>0.29</td></tr><tr><th>8</th><td>Terence Davis</td><td>SG</td><td>TOR</td><td>64.0</td><td>17.0</td><td>0.463</td><td>1.4</td><td>0.396</td><td>0.575</td></tr></tbody></table>"
      ],
      "text/latex": [
       "\\begin{tabular}{r|cccccccccc}\n",
       "\t& Player & Pos & Tm & G & MP & FGp & P3 & P3p & eFGp & \\\\\n",
       "\t\\hline\n",
       "\t& String & String & String & Float64 & Float64 & Float64 & Float64 & Float64 & Float64 & \\\\\n",
       "\t\\hline\n",
       "\t1 & Kyle Lowry & PG & TOR & 52.0 & 36.6 & 0.417 & 2.9 & 0.354 & 0.52 & $\\dots$ \\\\\n",
       "\t2 & Matt Thomas & SG & TOR & 33.0 & 9.7 & 0.486 & 1.1 & 0.467 & 0.644 & $\\dots$ \\\\\n",
       "\t3 & Norman Powell & SG & TOR & 44.0 & 28.8 & 0.502 & 2.1 & 0.398 & 0.593 & $\\dots$ \\\\\n",
       "\t4 & OG Anunoby & SF & TOR & 63.0 & 30.1 & 0.507 & 1.3 & 0.381 & 0.584 & $\\dots$ \\\\\n",
       "\t5 & Pascal Siakam & PF & TOR & 53.0 & 35.5 & 0.459 & 2.2 & 0.359 & 0.517 & $\\dots$ \\\\\n",
       "\t6 & Patrick McCaw & SF & TOR & 37.0 & 24.5 & 0.414 & 0.6 & 0.324 & 0.485 & $\\dots$ \\\\\n",
       "\t7 & Stanley Johnson & PF & TOR & 20.0 & 4.8 & 0.258 & 0.1 & 0.154 & 0.29 & $\\dots$ \\\\\n",
       "\t8 & Terence Davis & SG & TOR & 64.0 & 17.0 & 0.463 & 1.4 & 0.396 & 0.575 & $\\dots$ \\\\\n",
       "\\end{tabular}\n"
      ],
      "text/plain": [
       "8×27 DataFrame. Omitted printing of 21 columns\n",
       "│ Row │ Player          │ Pos    │ Tm     │ G       │ MP      │ FGp     │\n",
       "│     │ \u001b[90mString\u001b[39m          │ \u001b[90mString\u001b[39m │ \u001b[90mString\u001b[39m │ \u001b[90mFloat64\u001b[39m │ \u001b[90mFloat64\u001b[39m │ \u001b[90mFloat64\u001b[39m │\n",
       "├─────┼─────────────────┼────────┼────────┼─────────┼─────────┼─────────┤\n",
       "│ 1   │ Kyle Lowry      │ PG     │ TOR    │ 52.0    │ 36.6    │ 0.417   │\n",
       "│ 2   │ Matt Thomas     │ SG     │ TOR    │ 33.0    │ 9.7     │ 0.486   │\n",
       "│ 3   │ Norman Powell   │ SG     │ TOR    │ 44.0    │ 28.8    │ 0.502   │\n",
       "│ 4   │ OG Anunoby      │ SF     │ TOR    │ 63.0    │ 30.1    │ 0.507   │\n",
       "│ 5   │ Pascal Siakam   │ PF     │ TOR    │ 53.0    │ 35.5    │ 0.459   │\n",
       "│ 6   │ Patrick McCaw   │ SF     │ TOR    │ 37.0    │ 24.5    │ 0.414   │\n",
       "│ 7   │ Stanley Johnson │ PF     │ TOR    │ 20.0    │ 4.8     │ 0.258   │\n",
       "│ 8   │ Terence Davis   │ SG     │ TOR    │ 64.0    │ 17.0    │ 0.463   │"
      ]
     },
     "execution_count": 505,
     "metadata": {},
     "output_type": "execute_result"
    }
   ],
   "source": [
    "# Select All Players on the Toronto Raptors\n",
    "raptors = playerData[playerData[!,:Tm] .== \"TOR\", :]\n",
    "\n",
    "# Select Non-Free Agent Raptors\n",
    "signedRaptors = raptors[.!ismissing.(raptors[!,:Salary2020_21]),:]\n",
    "\n",
    "# Store Number of Non-Free Agent Raptors\n",
    "numOfRaptors = length(signedRaptors[!,:Player])\n",
    "\n",
    "signedRaptors"
   ]
  },
  {
   "cell_type": "markdown",
   "metadata": {},
   "source": [
    "### Eligible Player Pool (All Free Agents and Non-Free Agent Raptors) "
   ]
  },
  {
   "cell_type": "markdown",
   "metadata": {},
   "source": [
    "Now I will combine the free agent players data frame with all the signed Raptors to create an eligible pool of players the Raptors can pick from this offseason."
   ]
  },
  {
   "cell_type": "code",
   "execution_count": 506,
   "metadata": {},
   "outputs": [
    {
     "data": {
      "text/html": [
       "<table class=\"data-frame\"><thead><tr><th></th><th>Player</th><th>Pos</th><th>Tm</th><th>G</th><th>MP</th><th>FGp</th><th>P3</th><th>P3p</th><th>eFGp</th></tr><tr><th></th><th>String</th><th>String</th><th>String</th><th>Float64</th><th>Float64</th><th>Float64</th><th>Float64</th><th>Float64</th><th>Float64</th></tr></thead><tbody><p>10 rows × 27 columns (omitted printing of 18 columns)</p><tr><th>1</th><td>Kyle Lowry</td><td>PG</td><td>TOR</td><td>52.0</td><td>36.6</td><td>0.417</td><td>2.9</td><td>0.354</td><td>0.52</td></tr><tr><th>2</th><td>Matt Thomas</td><td>SG</td><td>TOR</td><td>33.0</td><td>9.7</td><td>0.486</td><td>1.1</td><td>0.467</td><td>0.644</td></tr><tr><th>3</th><td>Norman Powell</td><td>SG</td><td>TOR</td><td>44.0</td><td>28.8</td><td>0.502</td><td>2.1</td><td>0.398</td><td>0.593</td></tr><tr><th>4</th><td>OG Anunoby</td><td>SF</td><td>TOR</td><td>63.0</td><td>30.1</td><td>0.507</td><td>1.3</td><td>0.381</td><td>0.584</td></tr><tr><th>5</th><td>Pascal Siakam</td><td>PF</td><td>TOR</td><td>53.0</td><td>35.5</td><td>0.459</td><td>2.2</td><td>0.359</td><td>0.517</td></tr><tr><th>6</th><td>Patrick McCaw</td><td>SF</td><td>TOR</td><td>37.0</td><td>24.5</td><td>0.414</td><td>0.6</td><td>0.324</td><td>0.485</td></tr><tr><th>7</th><td>Stanley Johnson</td><td>PF</td><td>TOR</td><td>20.0</td><td>4.8</td><td>0.258</td><td>0.1</td><td>0.154</td><td>0.29</td></tr><tr><th>8</th><td>Terence Davis</td><td>SG</td><td>TOR</td><td>64.0</td><td>17.0</td><td>0.463</td><td>1.4</td><td>0.396</td><td>0.575</td></tr><tr><th>9</th><td>Alec Burks</td><td>SG</td><td>TOT</td><td>59.0</td><td>27.3</td><td>0.404</td><td>1.7</td><td>0.366</td><td>0.475</td></tr><tr><th>10</th><td>Alex Len</td><td>C</td><td>TOT</td><td>49.0</td><td>18.3</td><td>0.556</td><td>0.3</td><td>0.25</td><td>0.579</td></tr></tbody></table>"
      ],
      "text/latex": [
       "\\begin{tabular}{r|cccccccccc}\n",
       "\t& Player & Pos & Tm & G & MP & FGp & P3 & P3p & eFGp & \\\\\n",
       "\t\\hline\n",
       "\t& String & String & String & Float64 & Float64 & Float64 & Float64 & Float64 & Float64 & \\\\\n",
       "\t\\hline\n",
       "\t1 & Kyle Lowry & PG & TOR & 52.0 & 36.6 & 0.417 & 2.9 & 0.354 & 0.52 & $\\dots$ \\\\\n",
       "\t2 & Matt Thomas & SG & TOR & 33.0 & 9.7 & 0.486 & 1.1 & 0.467 & 0.644 & $\\dots$ \\\\\n",
       "\t3 & Norman Powell & SG & TOR & 44.0 & 28.8 & 0.502 & 2.1 & 0.398 & 0.593 & $\\dots$ \\\\\n",
       "\t4 & OG Anunoby & SF & TOR & 63.0 & 30.1 & 0.507 & 1.3 & 0.381 & 0.584 & $\\dots$ \\\\\n",
       "\t5 & Pascal Siakam & PF & TOR & 53.0 & 35.5 & 0.459 & 2.2 & 0.359 & 0.517 & $\\dots$ \\\\\n",
       "\t6 & Patrick McCaw & SF & TOR & 37.0 & 24.5 & 0.414 & 0.6 & 0.324 & 0.485 & $\\dots$ \\\\\n",
       "\t7 & Stanley Johnson & PF & TOR & 20.0 & 4.8 & 0.258 & 0.1 & 0.154 & 0.29 & $\\dots$ \\\\\n",
       "\t8 & Terence Davis & SG & TOR & 64.0 & 17.0 & 0.463 & 1.4 & 0.396 & 0.575 & $\\dots$ \\\\\n",
       "\t9 & Alec Burks & SG & TOT & 59.0 & 27.3 & 0.404 & 1.7 & 0.366 & 0.475 & $\\dots$ \\\\\n",
       "\t10 & Alex Len & C & TOT & 49.0 & 18.3 & 0.556 & 0.3 & 0.25 & 0.579 & $\\dots$ \\\\\n",
       "\\end{tabular}\n"
      ],
      "text/plain": [
       "10×27 DataFrame. Omitted printing of 21 columns\n",
       "│ Row │ Player          │ Pos    │ Tm     │ G       │ MP      │ FGp     │\n",
       "│     │ \u001b[90mString\u001b[39m          │ \u001b[90mString\u001b[39m │ \u001b[90mString\u001b[39m │ \u001b[90mFloat64\u001b[39m │ \u001b[90mFloat64\u001b[39m │ \u001b[90mFloat64\u001b[39m │\n",
       "├─────┼─────────────────┼────────┼────────┼─────────┼─────────┼─────────┤\n",
       "│ 1   │ Kyle Lowry      │ PG     │ TOR    │ 52.0    │ 36.6    │ 0.417   │\n",
       "│ 2   │ Matt Thomas     │ SG     │ TOR    │ 33.0    │ 9.7     │ 0.486   │\n",
       "│ 3   │ Norman Powell   │ SG     │ TOR    │ 44.0    │ 28.8    │ 0.502   │\n",
       "│ 4   │ OG Anunoby      │ SF     │ TOR    │ 63.0    │ 30.1    │ 0.507   │\n",
       "│ 5   │ Pascal Siakam   │ PF     │ TOR    │ 53.0    │ 35.5    │ 0.459   │\n",
       "│ 6   │ Patrick McCaw   │ SF     │ TOR    │ 37.0    │ 24.5    │ 0.414   │\n",
       "│ 7   │ Stanley Johnson │ PF     │ TOR    │ 20.0    │ 4.8     │ 0.258   │\n",
       "│ 8   │ Terence Davis   │ SG     │ TOR    │ 64.0    │ 17.0    │ 0.463   │\n",
       "│ 9   │ Alec Burks      │ SG     │ TOT    │ 59.0    │ 27.3    │ 0.404   │\n",
       "│ 10  │ Alex Len        │ C      │ TOT    │ 49.0    │ 18.3    │ 0.556   │"
      ]
     },
     "execution_count": 506,
     "metadata": {},
     "output_type": "execute_result"
    }
   ],
   "source": [
    "# Combine Signed Raptors and Free Agent Data Sets\n",
    "playerPool = append!(signedRaptors, freeAgents)\n",
    "first(playerPool,10)"
   ]
  },
  {
   "cell_type": "markdown",
   "metadata": {},
   "source": [
    "Now, I will apply the same model I used to get my optimized dream team, but force it to select the 8 players the Raptors have already signed for the 2020-2021 season. Thus, the model will pick out the remaining 4 players from the pool of free agents that will optimize the team's performance given the constraints.\n",
    "\n",
    "$$\n",
    "    r_i=\\left\\{\n",
    "                \\begin{array}{ll}\n",
    "                  1 & \\text{if player $i$ plays for the Raptors,}\\\\\n",
    "                  0 & \\text{if player $i$ does not play for the Raptors}\n",
    "                \\end{array}\n",
    "              \\right.\n",
    "$$\n",
    "\n",
    "       \n",
    "   \n",
    "$$\n",
    "    s_i=\\left\\{\n",
    "                \\begin{array}{ll}\n",
    "                  1 & \\text{if player $i$ is signed for the 2020-2021 season,}\\\\\n",
    "                  0 & \\text{if player $i$ will become a free agent prior to the 2020-2021 season}\n",
    "                \\end{array}\n",
    "              \\right.\n",
    "$$\n",
    "\n",
    "Ideally, I would like to use the same constraints, however, it would result in no solution because the constraints are too strict. Thus, I will remove the minutes per game constraints in order to get a solution."
   ]
  },
  {
   "cell_type": "markdown",
   "metadata": {},
   "source": [
    "### Raptors Basketize Model "
   ]
  },
  {
   "cell_type": "code",
   "execution_count": 507,
   "metadata": {},
   "outputs": [
    {
     "data": {
      "text/plain": [
       "basketize_Raptors (generic function with 2 methods)"
      ]
     },
     "execution_count": 507,
     "metadata": {},
     "output_type": "execute_result"
    }
   ],
   "source": [
    "function basketize_Raptors(df)\n",
    "    model = Model(Cbc.Optimizer)\n",
    "    set_silent(model)\n",
    "    \n",
    "    # Define N to Represent the Index of Each Player\n",
    "    N = nrow(df)\n",
    "    @variable(model, x[1:N], Bin)\n",
    "    \n",
    "    # Objective Function\n",
    "    o = df[!,:Salary2019_20];\n",
    "    @objective(model, Min, sum(x[i]*o[i] for i=1:N))\n",
    "    \n",
    "    # Team Size Constraint\n",
    "    @constraint(model, sum(x[i] for i=1:N) == 12);\n",
    "    \n",
    "    # Select Signed Raptors\n",
    "    r = ifelse.((df[!,:Tm].== \"TOR\"),1,0);\n",
    "    s = ifelse.((.!ismissing.(df[!,:Salary2020_21])),1,0);\n",
    "    @constraint(model, sum(x[i]*r[i]*s[i] for i=1:N) == numOfRaptors);\n",
    "    \n",
    "    # Position Constraints\n",
    "    c = ifelse.(df[!,:Pos].==\"C\",1,0);\n",
    "    @constraint(model, sum(x[i]*c[i] for i=1:N) >= 2);\n",
    "    \n",
    "    d = ifelse.(df[!,:Pos].==\"PF\",1,0);\n",
    "    @constraint(model, sum(x[i]*d[i] for i=1:N) >= 2);\n",
    "    \n",
    "    e = ifelse.(df[!,:Pos].==\"SF\",1,0);\n",
    "    @constraint(model, sum(x[i]*e[i] for i=1:N) >= 2);\n",
    "    \n",
    "    f = ifelse.(df[!,:Pos].==\"SG\",1,0);\n",
    "    @constraint(model, sum(x[i]*f[i] for i=1:N) >= 2);\n",
    "    \n",
    "    g = ifelse.(df[!,:Pos].==\"PG\",1,0);\n",
    "    @constraint(model, sum(x[i]*g[i] for i=1:N) >= 2);\n",
    "    \n",
    "    # 3-Pointers Constraint\n",
    "    t = df[!,:P3]\n",
    "    @constraint(model, sum(x[i]*t[i] for i=1:N) >= P3_max);\n",
    "    \n",
    "    # Defensive Rebounds Constraint\n",
    "    u = df[!,:DRB]\n",
    "    @constraint(model, sum(x[i]*u[i] for i=1:N) >= DRB_max);\n",
    "    \n",
    "    # Points Constraint\n",
    "    p = df[!,:PTS]\n",
    "    @constraint(model, sum(x[i]*p[i] for i=1:N) >= PTS_max);\n",
    "    \n",
    "    # 3-Point Percentage Constraint\n",
    "    h = df[!,:P3p]\n",
    "    @constraint(model, 1/12*sum(x[i]*h[i] for i=1:N) >= P3p_max);\n",
    "    \n",
    "    # Effective Field Goal Percentage Constraint\n",
    "    l = df[!,:eFGp]\n",
    "    @constraint(model, 1/12*sum(x[i]*l[i] for i=1:N) >= eFGp_max);\n",
    "    \n",
    "    # Defensive Box Plus-Minus Constraint\n",
    "    b = df[!,:DBPM]\n",
    "    @constraint(model, 1/12*sum(x[i]*b[i] for i=1:N) >= DBPM_q75);\n",
    "    \n",
    "    # Defensive Win Shares Constraint\n",
    "    w = df[!,:DWS]\n",
    "    @constraint(model, 1/12*sum(x[i]*w[i] for i=1:N) >= DWS_q75);\n",
    "\n",
    "    optimize!(model)\n",
    "    \n",
    "    # Extract Selected Players\n",
    "    players = sort(df[value.(x).>0.99,:Player])\n",
    "    return(df[value.(x).>0.99,[:Player,:Pos,:MP,:eFGp,:P3p,:P3,:PTS,:DRB,:DWS,:DBPM,:Salary2019_20]])\n",
    "end"
   ]
  },
  {
   "cell_type": "markdown",
   "metadata": {},
   "source": [
    "### Optimal Raptors Roster "
   ]
  },
  {
   "cell_type": "code",
   "execution_count": 508,
   "metadata": {},
   "outputs": [
    {
     "data": {
      "text/html": [
       "<table class=\"data-frame\"><thead><tr><th></th><th>Player</th><th>Pos</th><th>MP</th><th>eFGp</th><th>P3p</th><th>P3</th><th>PTS</th><th>DRB</th><th>DWS</th></tr><tr><th></th><th>String</th><th>String</th><th>Float64</th><th>Float64</th><th>Float64</th><th>Float64</th><th>Float64</th><th>Float64</th><th>Float64</th></tr></thead><tbody><p>12 rows × 11 columns (omitted printing of 2 columns)</p><tr><th>1</th><td>Kyle Lowry</td><td>PG</td><td>36.6</td><td>0.52</td><td>0.354</td><td>2.9</td><td>19.7</td><td>4.3</td><td>2.8</td></tr><tr><th>2</th><td>Matt Thomas</td><td>SG</td><td>9.7</td><td>0.644</td><td>0.467</td><td>1.1</td><td>4.5</td><td>1.2</td><td>0.4</td></tr><tr><th>3</th><td>Norman Powell</td><td>SG</td><td>28.8</td><td>0.593</td><td>0.398</td><td>2.1</td><td>16.4</td><td>3.1</td><td>1.9</td></tr><tr><th>4</th><td>OG Anunoby</td><td>SF</td><td>30.1</td><td>0.584</td><td>0.381</td><td>1.3</td><td>10.7</td><td>4.2</td><td>3.3</td></tr><tr><th>5</th><td>Pascal Siakam</td><td>PF</td><td>35.5</td><td>0.517</td><td>0.359</td><td>2.2</td><td>23.6</td><td>6.5</td><td>3.2</td></tr><tr><th>6</th><td>Patrick McCaw</td><td>SF</td><td>24.5</td><td>0.485</td><td>0.324</td><td>0.6</td><td>4.6</td><td>1.8</td><td>1.2</td></tr><tr><th>7</th><td>Stanley Johnson</td><td>PF</td><td>4.8</td><td>0.29</td><td>0.154</td><td>0.1</td><td>1.2</td><td>1.0</td><td>0.2</td></tr><tr><th>8</th><td>Terence Davis</td><td>SG</td><td>17.0</td><td>0.575</td><td>0.396</td><td>1.4</td><td>7.7</td><td>2.7</td><td>1.6</td></tr><tr><th>9</th><td>Christian Wood</td><td>PF</td><td>21.4</td><td>0.62</td><td>0.386</td><td>0.9</td><td>13.1</td><td>4.6</td><td>1.5</td></tr><tr><th>10</th><td>Dwight Howard</td><td>C</td><td>19.2</td><td>0.737</td><td>0.6</td><td>0.0</td><td>7.5</td><td>4.9</td><td>2.4</td></tr><tr><th>11</th><td>Fred VanVleet</td><td>PG</td><td>35.8</td><td>0.503</td><td>0.388</td><td>2.7</td><td>17.6</td><td>3.4</td><td>2.7</td></tr><tr><th>12</th><td>Meyers Leonard</td><td>C</td><td>20.1</td><td>0.635</td><td>0.429</td><td>1.0</td><td>6.1</td><td>4.5</td><td>1.1</td></tr></tbody></table>"
      ],
      "text/latex": [
       "\\begin{tabular}{r|cccccccccc}\n",
       "\t& Player & Pos & MP & eFGp & P3p & P3 & PTS & DRB & DWS & \\\\\n",
       "\t\\hline\n",
       "\t& String & String & Float64 & Float64 & Float64 & Float64 & Float64 & Float64 & Float64 & \\\\\n",
       "\t\\hline\n",
       "\t1 & Kyle Lowry & PG & 36.6 & 0.52 & 0.354 & 2.9 & 19.7 & 4.3 & 2.8 & $\\dots$ \\\\\n",
       "\t2 & Matt Thomas & SG & 9.7 & 0.644 & 0.467 & 1.1 & 4.5 & 1.2 & 0.4 & $\\dots$ \\\\\n",
       "\t3 & Norman Powell & SG & 28.8 & 0.593 & 0.398 & 2.1 & 16.4 & 3.1 & 1.9 & $\\dots$ \\\\\n",
       "\t4 & OG Anunoby & SF & 30.1 & 0.584 & 0.381 & 1.3 & 10.7 & 4.2 & 3.3 & $\\dots$ \\\\\n",
       "\t5 & Pascal Siakam & PF & 35.5 & 0.517 & 0.359 & 2.2 & 23.6 & 6.5 & 3.2 & $\\dots$ \\\\\n",
       "\t6 & Patrick McCaw & SF & 24.5 & 0.485 & 0.324 & 0.6 & 4.6 & 1.8 & 1.2 & $\\dots$ \\\\\n",
       "\t7 & Stanley Johnson & PF & 4.8 & 0.29 & 0.154 & 0.1 & 1.2 & 1.0 & 0.2 & $\\dots$ \\\\\n",
       "\t8 & Terence Davis & SG & 17.0 & 0.575 & 0.396 & 1.4 & 7.7 & 2.7 & 1.6 & $\\dots$ \\\\\n",
       "\t9 & Christian Wood & PF & 21.4 & 0.62 & 0.386 & 0.9 & 13.1 & 4.6 & 1.5 & $\\dots$ \\\\\n",
       "\t10 & Dwight Howard & C & 19.2 & 0.737 & 0.6 & 0.0 & 7.5 & 4.9 & 2.4 & $\\dots$ \\\\\n",
       "\t11 & Fred VanVleet & PG & 35.8 & 0.503 & 0.388 & 2.7 & 17.6 & 3.4 & 2.7 & $\\dots$ \\\\\n",
       "\t12 & Meyers Leonard & C & 20.1 & 0.635 & 0.429 & 1.0 & 6.1 & 4.5 & 1.1 & $\\dots$ \\\\\n",
       "\\end{tabular}\n"
      ],
      "text/plain": [
       "12×11 DataFrame. Omitted printing of 5 columns\n",
       "│ Row │ Player          │ Pos    │ MP      │ eFGp    │ P3p     │ P3      │\n",
       "│     │ \u001b[90mString\u001b[39m          │ \u001b[90mString\u001b[39m │ \u001b[90mFloat64\u001b[39m │ \u001b[90mFloat64\u001b[39m │ \u001b[90mFloat64\u001b[39m │ \u001b[90mFloat64\u001b[39m │\n",
       "├─────┼─────────────────┼────────┼─────────┼─────────┼─────────┼─────────┤\n",
       "│ 1   │ Kyle Lowry      │ PG     │ 36.6    │ 0.52    │ 0.354   │ 2.9     │\n",
       "│ 2   │ Matt Thomas     │ SG     │ 9.7     │ 0.644   │ 0.467   │ 1.1     │\n",
       "│ 3   │ Norman Powell   │ SG     │ 28.8    │ 0.593   │ 0.398   │ 2.1     │\n",
       "│ 4   │ OG Anunoby      │ SF     │ 30.1    │ 0.584   │ 0.381   │ 1.3     │\n",
       "│ 5   │ Pascal Siakam   │ PF     │ 35.5    │ 0.517   │ 0.359   │ 2.2     │\n",
       "│ 6   │ Patrick McCaw   │ SF     │ 24.5    │ 0.485   │ 0.324   │ 0.6     │\n",
       "│ 7   │ Stanley Johnson │ PF     │ 4.8     │ 0.29    │ 0.154   │ 0.1     │\n",
       "│ 8   │ Terence Davis   │ SG     │ 17.0    │ 0.575   │ 0.396   │ 1.4     │\n",
       "│ 9   │ Christian Wood  │ PF     │ 21.4    │ 0.62    │ 0.386   │ 0.9     │\n",
       "│ 10  │ Dwight Howard   │ C      │ 19.2    │ 0.737   │ 0.6     │ 0.0     │\n",
       "│ 11  │ Fred VanVleet   │ PG     │ 35.8    │ 0.503   │ 0.388   │ 2.7     │\n",
       "│ 12  │ Meyers Leonard  │ C      │ 20.1    │ 0.635   │ 0.429   │ 1.0     │"
      ]
     },
     "execution_count": 508,
     "metadata": {},
     "output_type": "execute_result"
    }
   ],
   "source": [
    "# Extract Model Selected Players and Their Statistics\n",
    "basketized_Raptors = basketize_Raptors(playerPool)"
   ]
  },
  {
   "cell_type": "markdown",
   "metadata": {},
   "source": [
    "According to the model, the free agents the Toronto Raptors should target are **Christian Wood, Dwight Howard, Fred Vanvleet** and **Meyers Leonard**. Interestingly, Vanvleet plays for the Raptors so the model is essentially suggesting that the team should resign him. \n",
    "\n",
    "It intuitively makes sense that these four players were selected given the parameters of my model since:\n",
    "* Wood, Vanvleet, and Leonard shoot a decent amount of threes at a high percentage\n",
    "* They all shoot efficiently (high effective field goal percentage)\n",
    "* Wood, Howard, and Leonard get a lot of rebounds\n",
    "* Vanvleet scores a lot of points\n",
    "* They are all relatively good defenders as they have a decent DWS and DBPM."
   ]
  },
  {
   "cell_type": "code",
   "execution_count": 509,
   "metadata": {},
   "outputs": [
    {
     "data": {
      "text/plain": [
       "8.24371e7"
      ]
     },
     "execution_count": 509,
     "metadata": {},
     "output_type": "execute_result"
    }
   ],
   "source": [
    "# Compute Basketized Raptors Team Payroll\n",
    "sum(basketized_Raptors.Salary2019_20)"
   ]
  },
  {
   "cell_type": "markdown",
   "metadata": {},
   "source": [
    "The payroll of the Raptors with the 4 suggested players would be approximately \\\\$82 million, saving the team about \\\\$41 million compared to their 2019-2020 payroll. This will give the team flexibility to do numerous things. For example, the extra \\\\$41 million can partially be allocated towards increasing the salary of the 4 suggested players from their 2019-2020 salary, especially Vanvleet and Wood who appear to be heavily undervalued."
   ]
  },
  {
   "cell_type": "markdown",
   "metadata": {},
   "source": [
    "#   \n",
    "# Model Limitations"
   ]
  },
  {
   "cell_type": "markdown",
   "metadata": {},
   "source": [
    "A limitation with my model and most models related to roster creation is it does not take into account how the players will play together and how adjusting their minutes could impact their output (performance statistics). Another limitation of my model is the 3-point percentage (P3p) and effective field-goal percentage (eFGp) constraints assume that every player on a team shoots the same amount which is not true. The model looks for the average P3p and eFGp across the 12 players which is slightly different from a team's P3p and eFGp. Essentially, the shooting percentage of a player who shoots a lot should be weighted more when calculating a team's shooting percentage than a player who rarely shoots the ball."
   ]
  },
  {
   "cell_type": "markdown",
   "metadata": {},
   "source": [
    "#    \n",
    "# Conclusion "
   ]
  },
  {
   "cell_type": "markdown",
   "metadata": {},
   "source": [
    "In conclusion, winning teams tend to score a lot of points, play good defense, rebound the ball well, and shoot efficiently. The Basketize model takes all of these factors into account when optimizing a roster. NBA teams can use this model not only to determine who they should target in free agency, but also to determine which players they should trade away/for to improve their team's statistics. In addition, this model can be tailored to a team's needs and style of play. For example, a team looking to improve defensively can set the objective function to maximize Defensive Win Shares (DWS) or Defensive Box Plus Minus (DBPM) and set a payroll constraint to be under the salary cap. Overall, NBA teams can use this model for a wide variety of applications."
   ]
  }
 ],
 "metadata": {
  "kernelspec": {
   "display_name": "Julia 1.4.2",
   "language": "julia",
   "name": "julia-1.4"
  },
  "language_info": {
   "file_extension": ".jl",
   "mimetype": "application/julia",
   "name": "julia",
   "version": "1.4.2"
  }
 },
 "nbformat": 4,
 "nbformat_minor": 4
}
